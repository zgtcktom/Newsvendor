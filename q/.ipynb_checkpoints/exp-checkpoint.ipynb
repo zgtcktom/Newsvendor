{
 "cells": [
  {
   "cell_type": "code",
   "execution_count": 1,
   "id": "e9023710",
   "metadata": {},
   "outputs": [],
   "source": [
    "import numpy as np"
   ]
  },
  {
   "cell_type": "code",
   "execution_count": 2,
   "id": "9bb568de",
   "metadata": {},
   "outputs": [
    {
     "data": {
      "text/plain": [
       "array([[42, 43]])"
      ]
     },
     "execution_count": 2,
     "metadata": {},
     "output_type": "execute_result"
    }
   ],
   "source": [
    "np.arange(0, 60).reshape((3,2,5, 2))[2, ::2,1]"
   ]
  },
  {
   "cell_type": "code",
   "execution_count": 3,
   "id": "ddf181e9",
   "metadata": {},
   "outputs": [
    {
     "data": {
      "text/plain": [
       "(array([[4, 3, 2, 1, 0],\n",
       "        [9, 8, 7, 6, 5]]),\n",
       " 5,\n",
       " 5,\n",
       " (2, 5),\n",
       " (20, -4))"
      ]
     },
     "execution_count": 3,
     "metadata": {},
     "output_type": "execute_result"
    }
   ],
   "source": [
    "a = np.arange(10).reshape((2,-1))[:, ::-1]\n",
    "a, a.item(9), a.item((1, -1)), a.shape, a.strides"
   ]
  },
  {
   "cell_type": "code",
   "execution_count": 4,
   "id": "eae60216",
   "metadata": {},
   "outputs": [
    {
     "data": {
      "text/plain": [
       "0"
      ]
     },
     "execution_count": 4,
     "metadata": {},
     "output_type": "execute_result"
    }
   ],
   "source": [
    "np.array([[0]]).item()"
   ]
  },
  {
   "cell_type": "code",
   "execution_count": 5,
   "id": "4c6c7e2b",
   "metadata": {},
   "outputs": [
    {
     "data": {
      "text/plain": [
       "bool"
      ]
     },
     "execution_count": 5,
     "metadata": {},
     "output_type": "execute_result"
    }
   ],
   "source": [
    "type(True)"
   ]
  },
  {
   "cell_type": "code",
   "execution_count": 6,
   "id": "actual-mechanism",
   "metadata": {
    "scrolled": false
   },
   "outputs": [],
   "source": [
    "for i in np.ndindex((0,)):\n",
    "    print(i)"
   ]
  },
  {
   "cell_type": "code",
   "execution_count": 7,
   "id": "peaceful-algebra",
   "metadata": {},
   "outputs": [
    {
     "name": "stdout",
     "output_type": "stream",
     "text": [
      "0 0 0\n",
      "1 1 0\n",
      "2 2 0\n",
      "0 3 0\n",
      "1 4 0\n",
      "2 5 0\n"
     ]
    }
   ],
   "source": [
    "a = np.arange(3)\n",
    "b = np.arange(6).reshape(2,3)\n",
    "\n",
    "for x, y, z in np.nditer([a,b,None]):\n",
    "    print(x, y, z)"
   ]
  },
  {
   "cell_type": "code",
   "execution_count": 8,
   "id": "heavy-wednesday",
   "metadata": {},
   "outputs": [
    {
     "data": {
      "text/plain": [
       "[(1, 4), (1, 5), (1, 6), (2, 4), (2, 5), (2, 6), (3, 4), (3, 5), (3, 6)]"
      ]
     },
     "execution_count": 8,
     "metadata": {},
     "output_type": "execute_result"
    }
   ],
   "source": [
    "x = np.array([[1], [2], [3]])\n",
    "y = np.array([4, 5, 6])\n",
    "b = np.broadcast(x, y)\n",
    "\n",
    "list(b)"
   ]
  },
  {
   "cell_type": "code",
   "execution_count": 9,
   "id": "assured-three",
   "metadata": {},
   "outputs": [
    {
     "data": {
      "text/plain": [
       "((1, 3, 1), (12, 4, 4), (0, 4, 0))"
      ]
     },
     "execution_count": 9,
     "metadata": {},
     "output_type": "execute_result"
    }
   ],
   "source": [
    "x = np.array([1, 2, 3]).reshape((1,-1,1))\n",
    "x.shape, x.strides, np.broadcast_to(x, (2,3,4)).strides"
   ]
  },
  {
   "cell_type": "code",
   "execution_count": 10,
   "id": "double-wednesday",
   "metadata": {},
   "outputs": [
    {
     "data": {
      "text/plain": [
       "array([[[1],\n",
       "        [2],\n",
       "        [3]]])"
      ]
     },
     "execution_count": 10,
     "metadata": {},
     "output_type": "execute_result"
    }
   ],
   "source": [
    "x"
   ]
  },
  {
   "cell_type": "code",
   "execution_count": 11,
   "id": "accurate-adolescent",
   "metadata": {},
   "outputs": [
    {
     "data": {
      "text/plain": [
       "array([[[1, 1, 1, 1],\n",
       "        [2, 2, 2, 2],\n",
       "        [3, 3, 3, 3]],\n",
       "\n",
       "       [[1, 1, 1, 1],\n",
       "        [2, 2, 2, 2],\n",
       "        [3, 3, 3, 3]]])"
      ]
     },
     "execution_count": 11,
     "metadata": {},
     "output_type": "execute_result"
    }
   ],
   "source": [
    "np.broadcast_to(x, (2,3,4))"
   ]
  },
  {
   "cell_type": "code",
   "execution_count": 12,
   "id": "alien-basic",
   "metadata": {},
   "outputs": [
    {
     "name": "stderr",
     "output_type": "stream",
     "text": [
      "C:\\Users\\cktto\\.conda\\envs\\tf2\\lib\\site-packages\\numpy\\core\\fromnumeric.py:2009: VisibleDeprecationWarning: Creating an ndarray from ragged nested sequences (which is a list-or-tuple of lists-or-tuples-or ndarrays with different lengths or shapes) is deprecated. If you meant to do this, you must specify 'dtype=object' when creating the ndarray.\n",
      "  result = asarray(a).shape\n"
     ]
    },
    {
     "data": {
      "text/plain": [
       "(4,)"
      ]
     },
     "execution_count": 12,
     "metadata": {},
     "output_type": "execute_result"
    }
   ],
   "source": [
    "np.shape([1,2,3,[1,3]])"
   ]
  },
  {
   "cell_type": "code",
   "execution_count": 13,
   "id": "major-helping",
   "metadata": {},
   "outputs": [],
   "source": [
    "a = [[1],[2],[3]]\n",
    "b = np.asarray(a)\n",
    "c = np.asarray(b)\n",
    "c[0, 0]=5"
   ]
  },
  {
   "cell_type": "code",
   "execution_count": 14,
   "id": "average-philippines",
   "metadata": {},
   "outputs": [
    {
     "data": {
      "text/plain": [
       "([[1], [2], [3]],\n",
       " array([[5],\n",
       "        [2],\n",
       "        [3]]),\n",
       " array([[5],\n",
       "        [2],\n",
       "        [3]]))"
      ]
     },
     "execution_count": 14,
     "metadata": {},
     "output_type": "execute_result"
    }
   ],
   "source": [
    "a, b, c"
   ]
  },
  {
   "cell_type": "code",
   "execution_count": 15,
   "id": "flying-highway",
   "metadata": {},
   "outputs": [
    {
     "data": {
      "text/plain": [
       "()"
      ]
     },
     "execution_count": 15,
     "metadata": {},
     "output_type": "execute_result"
    }
   ],
   "source": [
    "np.empty([]).shape"
   ]
  },
  {
   "cell_type": "code",
   "execution_count": 16,
   "id": "polar-biodiversity",
   "metadata": {},
   "outputs": [
    {
     "name": "stderr",
     "output_type": "stream",
     "text": [
      "<__array_function__ internals>:180: VisibleDeprecationWarning: Creating an ndarray from ragged nested sequences (which is a list-or-tuple of lists-or-tuples-or ndarrays with different lengths or shapes) is deprecated. If you meant to do this, you must specify 'dtype=object' when creating the ndarray.\n"
     ]
    },
    {
     "data": {
      "text/plain": [
       "array([None, None, None, None], dtype=object)"
      ]
     },
     "execution_count": 16,
     "metadata": {},
     "output_type": "execute_result"
    }
   ],
   "source": [
    "np.empty_like([1,2,3,[1,3]])"
   ]
  },
  {
   "cell_type": "code",
   "execution_count": 17,
   "id": "classical-enclosure",
   "metadata": {},
   "outputs": [
    {
     "data": {
      "text/plain": [
       "array(1.)"
      ]
     },
     "execution_count": 17,
     "metadata": {},
     "output_type": "execute_result"
    }
   ],
   "source": [
    "np.ones([])"
   ]
  },
  {
   "cell_type": "code",
   "execution_count": 18,
   "id": "opposite-price",
   "metadata": {},
   "outputs": [
    {
     "data": {
      "text/plain": [
       "array([[4, 4, 4],\n",
       "       [7, 7, 7]])"
      ]
     },
     "execution_count": 18,
     "metadata": {},
     "output_type": "execute_result"
    }
   ],
   "source": [
    "A = np.array([[1, 2, 3], [4, 5, 6]])\n",
    "B = [[4], [7]]\n",
    "np.copyto(A, B)\n",
    "A"
   ]
  },
  {
   "cell_type": "code",
   "execution_count": 19,
   "id": "minute-monthly",
   "metadata": {},
   "outputs": [
    {
     "data": {
      "text/plain": [
       "True"
      ]
     },
     "execution_count": 19,
     "metadata": {},
     "output_type": "execute_result"
    }
   ],
   "source": [
    "np.isscalar('[1,2]')"
   ]
  },
  {
   "cell_type": "code",
   "execution_count": 20,
   "id": "modular-reader",
   "metadata": {},
   "outputs": [
    {
     "name": "stdout",
     "output_type": "stream",
     "text": [
      "Help on function ndim in module numpy:\n",
      "\n",
      "ndim(a)\n",
      "    Return the number of dimensions of an array.\n",
      "    \n",
      "    Parameters\n",
      "    ----------\n",
      "    a : array_like\n",
      "        Input array.  If it is not already an ndarray, a conversion is\n",
      "        attempted.\n",
      "    \n",
      "    Returns\n",
      "    -------\n",
      "    number_of_dimensions : int\n",
      "        The number of dimensions in `a`.  Scalars are zero-dimensional.\n",
      "    \n",
      "    See Also\n",
      "    --------\n",
      "    ndarray.ndim : equivalent method\n",
      "    shape : dimensions of array\n",
      "    ndarray.shape : dimensions of array\n",
      "    \n",
      "    Examples\n",
      "    --------\n",
      "    >>> np.ndim([[1,2,3],[4,5,6]])\n",
      "    2\n",
      "    >>> np.ndim(np.array([[1,2,3],[4,5,6]]))\n",
      "    2\n",
      "    >>> np.ndim(1)\n",
      "    0\n",
      "\n"
     ]
    },
    {
     "data": {
      "text/plain": [
       "(0, None)"
      ]
     },
     "execution_count": 20,
     "metadata": {},
     "output_type": "execute_result"
    }
   ],
   "source": [
    "np.ndim(None), help(np.ndim)"
   ]
  },
  {
   "cell_type": "code",
   "execution_count": 21,
   "id": "powerful-administrator",
   "metadata": {},
   "outputs": [
    {
     "data": {
      "text/plain": [
       "(None,\n",
       " array([[1, 1, 1],\n",
       "        [4, 5, 6]]))"
      ]
     },
     "execution_count": 21,
     "metadata": {},
     "output_type": "execute_result"
    }
   ],
   "source": [
    "a = np.array([[1, 2, 3], [4, 5, 6]])\n",
    "np.copyto(a, 1, where=[[True], [False]]), a"
   ]
  },
  {
   "cell_type": "code",
   "execution_count": 22,
   "id": "statutory-toilet",
   "metadata": {},
   "outputs": [
    {
     "name": "stdout",
     "output_type": "stream",
     "text": [
      "Help on function eye in module numpy:\n",
      "\n",
      "eye(N, M=None, k=0, dtype=<class 'float'>, order='C', *, like=None)\n",
      "    Return a 2-D array with ones on the diagonal and zeros elsewhere.\n",
      "    \n",
      "    Parameters\n",
      "    ----------\n",
      "    N : int\n",
      "      Number of rows in the output.\n",
      "    M : int, optional\n",
      "      Number of columns in the output. If None, defaults to `N`.\n",
      "    k : int, optional\n",
      "      Index of the diagonal: 0 (the default) refers to the main diagonal,\n",
      "      a positive value refers to an upper diagonal, and a negative value\n",
      "      to a lower diagonal.\n",
      "    dtype : data-type, optional\n",
      "      Data-type of the returned array.\n",
      "    order : {'C', 'F'}, optional\n",
      "        Whether the output should be stored in row-major (C-style) or\n",
      "        column-major (Fortran-style) order in memory.\n",
      "    \n",
      "        .. versionadded:: 1.14.0\n",
      "    like : array_like, optional\n",
      "        Reference object to allow the creation of arrays which are not\n",
      "        NumPy arrays. If an array-like passed in as ``like`` supports\n",
      "        the ``__array_function__`` protocol, the result will be defined\n",
      "        by it. In this case, it ensures the creation of an array object\n",
      "        compatible with that passed in via this argument.\n",
      "    \n",
      "        .. versionadded:: 1.20.0\n",
      "    \n",
      "    Returns\n",
      "    -------\n",
      "    I : ndarray of shape (N,M)\n",
      "      An array where all elements are equal to zero, except for the `k`-th\n",
      "      diagonal, whose values are equal to one.\n",
      "    \n",
      "    See Also\n",
      "    --------\n",
      "    identity : (almost) equivalent function\n",
      "    diag : diagonal 2-D array from a 1-D array specified by the user.\n",
      "    \n",
      "    Examples\n",
      "    --------\n",
      "    >>> np.eye(2, dtype=int)\n",
      "    array([[1, 0],\n",
      "           [0, 1]])\n",
      "    >>> np.eye(3, k=1)\n",
      "    array([[0.,  1.,  0.],\n",
      "           [0.,  0.,  1.],\n",
      "           [0.,  0.,  0.]])\n",
      "\n"
     ]
    }
   ],
   "source": [
    "help(np.eye)"
   ]
  },
  {
   "cell_type": "code",
   "execution_count": 23,
   "id": "canadian-honor",
   "metadata": {
    "scrolled": false
   },
   "outputs": [
    {
     "name": "stdout",
     "output_type": "stream",
     "text": [
      "Help on function copyto in module numpy:\n",
      "\n",
      "copyto(...)\n",
      "    copyto(dst, src, casting='same_kind', where=True)\n",
      "    \n",
      "    Copies values from one array to another, broadcasting as necessary.\n",
      "    \n",
      "    Raises a TypeError if the `casting` rule is violated, and if\n",
      "    `where` is provided, it selects which elements to copy.\n",
      "    \n",
      "    .. versionadded:: 1.7.0\n",
      "    \n",
      "    Parameters\n",
      "    ----------\n",
      "    dst : ndarray\n",
      "        The array into which values are copied.\n",
      "    src : array_like\n",
      "        The array from which values are copied.\n",
      "    casting : {'no', 'equiv', 'safe', 'same_kind', 'unsafe'}, optional\n",
      "        Controls what kind of data casting may occur when copying.\n",
      "    \n",
      "          * 'no' means the data types should not be cast at all.\n",
      "          * 'equiv' means only byte-order changes are allowed.\n",
      "          * 'safe' means only casts which can preserve values are allowed.\n",
      "          * 'same_kind' means only safe casts or casts within a kind,\n",
      "            like float64 to float32, are allowed.\n",
      "          * 'unsafe' means any data conversions may be done.\n",
      "    where : array_like of bool, optional\n",
      "        A boolean array which is broadcasted to match the dimensions\n",
      "        of `dst`, and selects elements to copy from `src` to `dst`\n",
      "        wherever it contains the value True.\n",
      "\n"
     ]
    }
   ],
   "source": [
    "help(np.copyto)"
   ]
  },
  {
   "cell_type": "code",
   "execution_count": 24,
   "id": "caring-labor",
   "metadata": {},
   "outputs": [
    {
     "data": {
      "text/plain": [
       "array([[ 0, -1,  2],\n",
       "       [ 3, -2,  5]])"
      ]
     },
     "execution_count": 24,
     "metadata": {},
     "output_type": "execute_result"
    }
   ],
   "source": [
    "b= np.array([[0,1,2],[3,4,5]])\n",
    "np.copyto(b[:,1],[-1,-2])\n",
    "b"
   ]
  },
  {
   "cell_type": "code",
   "execution_count": 25,
   "id": "floral-permission",
   "metadata": {},
   "outputs": [
    {
     "data": {
      "text/plain": [
       "4"
      ]
     },
     "execution_count": 25,
     "metadata": {},
     "output_type": "execute_result"
    }
   ],
   "source": [
    "a=np.arange(10).reshape((2,5))\n",
    "a[::-1,::-1].item(5)"
   ]
  },
  {
   "cell_type": "code",
   "execution_count": 26,
   "id": "nervous-madagascar",
   "metadata": {},
   "outputs": [
    {
     "name": "stderr",
     "output_type": "stream",
     "text": [
      "C:\\Users\\cktto\\AppData\\Local\\Temp\\ipykernel_6436\\1765726330.py:1: VisibleDeprecationWarning: Creating an ndarray from ragged nested sequences (which is a list-or-tuple of lists-or-tuples-or ndarrays with different lengths or shapes) is deprecated. If you meant to do this, you must specify 'dtype=object' when creating the ndarray.\n",
      "  np.array([[9,6], 3.1, 9]).shape\n"
     ]
    },
    {
     "data": {
      "text/plain": [
       "(3,)"
      ]
     },
     "execution_count": 26,
     "metadata": {},
     "output_type": "execute_result"
    }
   ],
   "source": [
    "np.array([[9,6], 3.1, 9]).shape"
   ]
  },
  {
   "cell_type": "code",
   "execution_count": 37,
   "id": "cf37b881",
   "metadata": {},
   "outputs": [
    {
     "data": {
      "text/plain": [
       "(True, True)"
      ]
     },
     "execution_count": 37,
     "metadata": {},
     "output_type": "execute_result"
    }
   ],
   "source": [
    "a=np.arange(10)\n",
    "\n",
    "a[:][:].base is a, np.asarray(a) is a"
   ]
  },
  {
   "cell_type": "code",
   "execution_count": 67,
   "id": "0b52e978",
   "metadata": {},
   "outputs": [
    {
     "data": {
      "text/plain": [
       "False"
      ]
     },
     "execution_count": 67,
     "metadata": {},
     "output_type": "execute_result"
    }
   ],
   "source": [
    "a=np.arange(10)[2:]\n",
    "a.reshape((-1,2)).base is a"
   ]
  },
  {
   "cell_type": "code",
   "execution_count": 94,
   "id": "66da1b06",
   "metadata": {},
   "outputs": [
    {
     "name": "stdout",
     "output_type": "stream",
     "text": [
      "0 1 (0, 1)\n",
      "1 1 (0, 1)\n",
      "0 1 (0, 1)\n",
      "0 2 (1, 0)\n",
      "1 2 (1, 0)\n",
      "1 2 (1, 0)\n"
     ]
    }
   ],
   "source": [
    "a = np.arange(2).reshape(1, -1)\n",
    "c=a.flat\n",
    "for item in c:\n",
    "    for b in a.flat:\n",
    "        print(b,c.index,c.coords)\n",
    "    print(item,c.index,c.coords)"
   ]
  },
  {
   "cell_type": "code",
   "execution_count": 95,
   "id": "d8a5e4a0",
   "metadata": {},
   "outputs": [
    {
     "data": {
      "text/plain": [
       "array([3, 4, 5, 0, 1, 2])"
      ]
     },
     "execution_count": 95,
     "metadata": {},
     "output_type": "execute_result"
    }
   ],
   "source": [
    "np.array([[0,1,2],[3,4,5]])[::-1].flat.copy()"
   ]
  },
  {
   "cell_type": "code",
   "execution_count": 102,
   "id": "ab23166c",
   "metadata": {},
   "outputs": [
    {
     "data": {
      "text/plain": [
       "array([3, 2])"
      ]
     },
     "execution_count": 102,
     "metadata": {},
     "output_type": "execute_result"
    }
   ],
   "source": [
    "np.array([[0,1,2],[3,4,5]])[::-1].flat[[0,-1]]"
   ]
  },
  {
   "cell_type": "code",
   "execution_count": 105,
   "id": "04b7fccb",
   "metadata": {},
   "outputs": [
    {
     "data": {
      "text/plain": [
       "array([4, 5, 6])"
      ]
     },
     "execution_count": 105,
     "metadata": {},
     "output_type": "execute_result"
    }
   ],
   "source": [
    "np.array([[1, 2, 3], [4, 5, 6]]).flat[[3,4,-1]]"
   ]
  },
  {
   "cell_type": "code",
   "execution_count": 120,
   "id": "a7e74f01",
   "metadata": {},
   "outputs": [
    {
     "data": {
      "text/plain": [
       "array([[3, 1, 3],\n",
       "       [3, 3, 2]])"
      ]
     },
     "execution_count": 120,
     "metadata": {},
     "output_type": "execute_result"
    }
   ],
   "source": [
    "x=np.full((2,3),3)\n",
    "x.flat[[1,-1]] = [[1],[2]]; x"
   ]
  },
  {
   "cell_type": "code",
   "execution_count": 135,
   "id": "3fb25a24",
   "metadata": {},
   "outputs": [
    {
     "data": {
      "text/plain": [
       "array([[ 7,  8,  9],\n",
       "       [10,  7,  8]])"
      ]
     },
     "execution_count": 135,
     "metadata": {},
     "output_type": "execute_result"
    }
   ],
   "source": [
    "x=np.full((2,3),-1)\n",
    "x.flat = [7,8,9,10]\n",
    "x"
   ]
  },
  {
   "cell_type": "code",
   "execution_count": 97,
   "id": "46df5870",
   "metadata": {},
   "outputs": [
    {
     "name": "stdout",
     "output_type": "stream",
     "text": [
      "Help on method_descriptor:\n",
      "\n",
      "flatten(...)\n",
      "    a.flatten(order='C')\n",
      "    \n",
      "    Return a copy of the array collapsed into one dimension.\n",
      "    \n",
      "    Parameters\n",
      "    ----------\n",
      "    order : {'C', 'F', 'A', 'K'}, optional\n",
      "        'C' means to flatten in row-major (C-style) order.\n",
      "        'F' means to flatten in column-major (Fortran-\n",
      "        style) order. 'A' means to flatten in column-major\n",
      "        order if `a` is Fortran *contiguous* in memory,\n",
      "        row-major order otherwise. 'K' means to flatten\n",
      "        `a` in the order the elements occur in memory.\n",
      "        The default is 'C'.\n",
      "    \n",
      "    Returns\n",
      "    -------\n",
      "    y : ndarray\n",
      "        A copy of the input array, flattened to one dimension.\n",
      "    \n",
      "    See Also\n",
      "    --------\n",
      "    ravel : Return a flattened array.\n",
      "    flat : A 1-D flat iterator over the array.\n",
      "    \n",
      "    Examples\n",
      "    --------\n",
      "    >>> a = np.array([[1,2], [3,4]])\n",
      "    >>> a.flatten()\n",
      "    array([1, 2, 3, 4])\n",
      "    >>> a.flatten('F')\n",
      "    array([1, 3, 2, 4])\n",
      "\n"
     ]
    }
   ],
   "source": [
    "help(np.ndarray.flatten)"
   ]
  },
  {
   "cell_type": "code",
   "execution_count": 175,
   "id": "c4d3ae4d",
   "metadata": {},
   "outputs": [
    {
     "data": {
      "text/plain": [
       "(None, array([1, 4]), (12,), (12, 4), (12, 4))"
      ]
     },
     "execution_count": 175,
     "metadata": {},
     "output_type": "execute_result"
    }
   ],
   "source": [
    "x = np.array([[1, 2, 3], [4, 5, 6]])\n",
    "y = x[:, 0:1]\n",
    "np.ravel(y).base,  y.reshape(-1), y.reshape(-1).strides, y.strides, x.strides"
   ]
  },
  {
   "cell_type": "code",
   "execution_count": 189,
   "id": "58408b2c",
   "metadata": {
    "scrolled": false
   },
   "outputs": [
    {
     "name": "stdout",
     "output_type": "stream",
     "text": [
      "Help on built-in function arange in module numpy:\n",
      "\n",
      "arange(...)\n",
      "    arange([start,] stop[, step,], dtype=None, *, like=None)\n",
      "    \n",
      "    Return evenly spaced values within a given interval.\n",
      "    \n",
      "    ``arange`` can be called with a varying number of positional arguments:\n",
      "    \n",
      "    * ``arange(stop)``: Values are generated within the half-open interval\n",
      "      ``[0, stop)`` (in other words, the interval including `start` but\n",
      "      excluding `stop`).\n",
      "    * ``arange(start, stop)``: Values are generated within the half-open\n",
      "      interval ``[start, stop)``.\n",
      "    * ``arange(start, stop, step)`` Values are generated within the half-open\n",
      "      interval ``[start, stop)``, with spacing between values given by\n",
      "      ``step``.\n",
      "    \n",
      "    For integer arguments the function is roughly equivalent to the Python\n",
      "    built-in :py:class:`range`, but returns an ndarray rather than a ``range``\n",
      "    instance.\n",
      "    \n",
      "    When using a non-integer step, such as 0.1, it is often better to use\n",
      "    `numpy.linspace`.\n",
      "    \n",
      "    See the Warning sections below for more information.\n",
      "    \n",
      "    Parameters\n",
      "    ----------\n",
      "    start : integer or real, optional\n",
      "        Start of interval.  The interval includes this value.  The default\n",
      "        start value is 0.\n",
      "    stop : integer or real\n",
      "        End of interval.  The interval does not include this value, except\n",
      "        in some cases where `step` is not an integer and floating point\n",
      "        round-off affects the length of `out`.\n",
      "    step : integer or real, optional\n",
      "        Spacing between values.  For any output `out`, this is the distance\n",
      "        between two adjacent values, ``out[i+1] - out[i]``.  The default\n",
      "        step size is 1.  If `step` is specified as a position argument,\n",
      "        `start` must also be given.\n",
      "    dtype : dtype, optional\n",
      "        The type of the output array.  If `dtype` is not given, infer the data\n",
      "        type from the other input arguments.\n",
      "    like : array_like, optional\n",
      "        Reference object to allow the creation of arrays which are not\n",
      "        NumPy arrays. If an array-like passed in as ``like`` supports\n",
      "        the ``__array_function__`` protocol, the result will be defined\n",
      "        by it. In this case, it ensures the creation of an array object\n",
      "        compatible with that passed in via this argument.\n",
      "    \n",
      "        .. versionadded:: 1.20.0\n",
      "    \n",
      "    Returns\n",
      "    -------\n",
      "    arange : ndarray\n",
      "        Array of evenly spaced values.\n",
      "    \n",
      "        For floating point arguments, the length of the result is\n",
      "        ``ceil((stop - start)/step)``.  Because of floating point overflow,\n",
      "        this rule may result in the last element of `out` being greater\n",
      "        than `stop`.\n",
      "    \n",
      "    Warnings\n",
      "    --------\n",
      "    The length of the output might not be numerically stable.\n",
      "    \n",
      "    Another stability issue is due to the internal implementation of\n",
      "    `numpy.arange`.\n",
      "    The actual step value used to populate the array is\n",
      "    ``dtype(start + step) - dtype(start)`` and not `step`. Precision loss\n",
      "    can occur here, due to casting or due to using floating points when\n",
      "    `start` is much larger than `step`. This can lead to unexpected\n",
      "    behaviour. For example::\n",
      "    \n",
      "      >>> np.arange(0, 5, 0.5, dtype=int)\n",
      "      array([0, 0, 0, 0, 0, 0, 0, 0, 0, 0])\n",
      "      >>> np.arange(-3, 3, 0.5, dtype=int)\n",
      "      array([-3, -2, -1,  0,  1,  2,  3,  4,  5,  6,  7,  8])\n",
      "    \n",
      "    In such cases, the use of `numpy.linspace` should be preferred.\n",
      "    \n",
      "    The built-in :py:class:`range` generates :std:doc:`Python built-in integers\n",
      "    that have arbitrary size <c-api/long>`, while `numpy.arange` produces\n",
      "    `numpy.int32` or `numpy.int64` numbers. This may result in incorrect\n",
      "    results for large integer values::\n",
      "    \n",
      "      >>> power = 40\n",
      "      >>> modulo = 10000\n",
      "      >>> x1 = [(n ** power) % modulo for n in range(8)]\n",
      "      >>> x2 = [(n ** power) % modulo for n in np.arange(8)]\n",
      "      >>> print(x1)\n",
      "      [0, 1, 7776, 8801, 6176, 625, 6576, 4001]  # correct\n",
      "      >>> print(x2)\n",
      "      [0, 1, 7776, 7185, 0, 5969, 4816, 3361]  # incorrect\n",
      "    \n",
      "    See Also\n",
      "    --------\n",
      "    numpy.linspace : Evenly spaced numbers with careful handling of endpoints.\n",
      "    numpy.ogrid: Arrays of evenly spaced numbers in N-dimensions.\n",
      "    numpy.mgrid: Grid-shaped arrays of evenly spaced numbers in N-dimensions.\n",
      "    \n",
      "    Examples\n",
      "    --------\n",
      "    >>> np.arange(3)\n",
      "    array([0, 1, 2])\n",
      "    >>> np.arange(3.0)\n",
      "    array([ 0.,  1.,  2.])\n",
      "    >>> np.arange(3,7)\n",
      "    array([3, 4, 5, 6])\n",
      "    >>> np.arange(3,7,2)\n",
      "    array([3, 5])\n",
      "\n"
     ]
    }
   ],
   "source": [
    "help(np.arange)"
   ]
  },
  {
   "cell_type": "code",
   "execution_count": 188,
   "id": "057308e3",
   "metadata": {},
   "outputs": [
    {
     "data": {
      "text/plain": [
       "array([], dtype=int32)"
      ]
     },
     "execution_count": 188,
     "metadata": {},
     "output_type": "execute_result"
    }
   ],
   "source": [
    "np.arange(0,10,-1)"
   ]
  },
  {
   "cell_type": "code",
   "execution_count": 193,
   "id": "91f65e8e",
   "metadata": {},
   "outputs": [
    {
     "data": {
      "text/plain": [
       "array([ 0, -1, -2, -3, -4, -5, -6, -7, -8, -9])"
      ]
     },
     "execution_count": 193,
     "metadata": {},
     "output_type": "execute_result"
    }
   ],
   "source": [
    "np.arange(0, -10, -1)"
   ]
  },
  {
   "cell_type": "code",
   "execution_count": 195,
   "id": "1a843a92",
   "metadata": {},
   "outputs": [
    {
     "data": {
      "text/plain": [
       "array([2.        , 2.02040816, 2.04081633, 2.06122449, 2.08163265,\n",
       "       2.10204082, 2.12244898, 2.14285714, 2.16326531, 2.18367347,\n",
       "       2.20408163, 2.2244898 , 2.24489796, 2.26530612, 2.28571429,\n",
       "       2.30612245, 2.32653061, 2.34693878, 2.36734694, 2.3877551 ,\n",
       "       2.40816327, 2.42857143, 2.44897959, 2.46938776, 2.48979592,\n",
       "       2.51020408, 2.53061224, 2.55102041, 2.57142857, 2.59183673,\n",
       "       2.6122449 , 2.63265306, 2.65306122, 2.67346939, 2.69387755,\n",
       "       2.71428571, 2.73469388, 2.75510204, 2.7755102 , 2.79591837,\n",
       "       2.81632653, 2.83673469, 2.85714286, 2.87755102, 2.89795918,\n",
       "       2.91836735, 2.93877551, 2.95918367, 2.97959184, 3.        ])"
      ]
     },
     "execution_count": 195,
     "metadata": {},
     "output_type": "execute_result"
    }
   ],
   "source": [
    "np.linspace(2.0, 3.0)"
   ]
  },
  {
   "cell_type": "code",
   "execution_count": 196,
   "id": "10f8f669",
   "metadata": {},
   "outputs": [
    {
     "data": {
      "text/plain": [
       "(array([2. , 2.2, 2.4, 2.6, 2.8]), 0.2)"
      ]
     },
     "execution_count": 196,
     "metadata": {},
     "output_type": "execute_result"
    }
   ],
   "source": [
    "np.linspace(2.0, 3.0, num=5, endpoint=False, retstep=True)"
   ]
  },
  {
   "cell_type": "code",
   "execution_count": 198,
   "id": "f84a50b6",
   "metadata": {
    "scrolled": false
   },
   "outputs": [
    {
     "name": "stdout",
     "output_type": "stream",
     "text": [
      "Help on function diagonal in module numpy:\n",
      "\n",
      "diagonal(a, offset=0, axis1=0, axis2=1)\n",
      "    Return specified diagonals.\n",
      "    \n",
      "    If `a` is 2-D, returns the diagonal of `a` with the given offset,\n",
      "    i.e., the collection of elements of the form ``a[i, i+offset]``.  If\n",
      "    `a` has more than two dimensions, then the axes specified by `axis1`\n",
      "    and `axis2` are used to determine the 2-D sub-array whose diagonal is\n",
      "    returned.  The shape of the resulting array can be determined by\n",
      "    removing `axis1` and `axis2` and appending an index to the right equal\n",
      "    to the size of the resulting diagonals.\n",
      "    \n",
      "    In versions of NumPy prior to 1.7, this function always returned a new,\n",
      "    independent array containing a copy of the values in the diagonal.\n",
      "    \n",
      "    In NumPy 1.7 and 1.8, it continues to return a copy of the diagonal,\n",
      "    but depending on this fact is deprecated. Writing to the resulting\n",
      "    array continues to work as it used to, but a FutureWarning is issued.\n",
      "    \n",
      "    Starting in NumPy 1.9 it returns a read-only view on the original array.\n",
      "    Attempting to write to the resulting array will produce an error.\n",
      "    \n",
      "    In some future release, it will return a read/write view and writing to\n",
      "    the returned array will alter your original array.  The returned array\n",
      "    will have the same type as the input array.\n",
      "    \n",
      "    If you don't write to the array returned by this function, then you can\n",
      "    just ignore all of the above.\n",
      "    \n",
      "    If you depend on the current behavior, then we suggest copying the\n",
      "    returned array explicitly, i.e., use ``np.diagonal(a).copy()`` instead\n",
      "    of just ``np.diagonal(a)``. This will work with both past and future\n",
      "    versions of NumPy.\n",
      "    \n",
      "    Parameters\n",
      "    ----------\n",
      "    a : array_like\n",
      "        Array from which the diagonals are taken.\n",
      "    offset : int, optional\n",
      "        Offset of the diagonal from the main diagonal.  Can be positive or\n",
      "        negative.  Defaults to main diagonal (0).\n",
      "    axis1 : int, optional\n",
      "        Axis to be used as the first axis of the 2-D sub-arrays from which\n",
      "        the diagonals should be taken.  Defaults to first axis (0).\n",
      "    axis2 : int, optional\n",
      "        Axis to be used as the second axis of the 2-D sub-arrays from\n",
      "        which the diagonals should be taken. Defaults to second axis (1).\n",
      "    \n",
      "    Returns\n",
      "    -------\n",
      "    array_of_diagonals : ndarray\n",
      "        If `a` is 2-D, then a 1-D array containing the diagonal and of the\n",
      "        same type as `a` is returned unless `a` is a `matrix`, in which case\n",
      "        a 1-D array rather than a (2-D) `matrix` is returned in order to\n",
      "        maintain backward compatibility.\n",
      "    \n",
      "        If ``a.ndim > 2``, then the dimensions specified by `axis1` and `axis2`\n",
      "        are removed, and a new axis inserted at the end corresponding to the\n",
      "        diagonal.\n",
      "    \n",
      "    Raises\n",
      "    ------\n",
      "    ValueError\n",
      "        If the dimension of `a` is less than 2.\n",
      "    \n",
      "    See Also\n",
      "    --------\n",
      "    diag : MATLAB work-a-like for 1-D and 2-D arrays.\n",
      "    diagflat : Create diagonal arrays.\n",
      "    trace : Sum along diagonals.\n",
      "    \n",
      "    Examples\n",
      "    --------\n",
      "    >>> a = np.arange(4).reshape(2,2)\n",
      "    >>> a\n",
      "    array([[0, 1],\n",
      "           [2, 3]])\n",
      "    >>> a.diagonal()\n",
      "    array([0, 3])\n",
      "    >>> a.diagonal(1)\n",
      "    array([1])\n",
      "    \n",
      "    A 3-D example:\n",
      "    \n",
      "    >>> a = np.arange(8).reshape(2,2,2); a\n",
      "    array([[[0, 1],\n",
      "            [2, 3]],\n",
      "           [[4, 5],\n",
      "            [6, 7]]])\n",
      "    >>> a.diagonal(0,  # Main diagonals of two arrays created by skipping\n",
      "    ...            0,  # across the outer(left)-most axis last and\n",
      "    ...            1)  # the \"middle\" (row) axis first.\n",
      "    array([[0, 6],\n",
      "           [1, 7]])\n",
      "    \n",
      "    The sub-arrays whose main diagonals we just obtained; note that each\n",
      "    corresponds to fixing the right-most (column) axis, and that the\n",
      "    diagonals are \"packed\" in rows.\n",
      "    \n",
      "    >>> a[:,:,0]  # main diagonal is [0 6]\n",
      "    array([[0, 2],\n",
      "           [4, 6]])\n",
      "    >>> a[:,:,1]  # main diagonal is [1 7]\n",
      "    array([[1, 3],\n",
      "           [5, 7]])\n",
      "    \n",
      "    The anti-diagonal can be obtained by reversing the order of elements\n",
      "    using either `numpy.flipud` or `numpy.fliplr`.\n",
      "    \n",
      "    >>> a = np.arange(9).reshape(3, 3)\n",
      "    >>> a\n",
      "    array([[0, 1, 2],\n",
      "           [3, 4, 5],\n",
      "           [6, 7, 8]])\n",
      "    >>> np.fliplr(a).diagonal()  # Horizontal flip\n",
      "    array([2, 4, 6])\n",
      "    >>> np.flipud(a).diagonal()  # Vertical flip\n",
      "    array([6, 4, 2])\n",
      "    \n",
      "    Note that the order in which the diagonal is retrieved varies depending\n",
      "    on the flip function.\n",
      "\n"
     ]
    }
   ],
   "source": [
    "help(np.diagonal)"
   ]
  },
  {
   "cell_type": "code",
   "execution_count": 263,
   "id": "af518a32",
   "metadata": {},
   "outputs": [
    {
     "name": "stdout",
     "output_type": "stream",
     "text": [
      "Help on function take in module numpy:\n",
      "\n",
      "take(a, indices, axis=None, out=None, mode='raise')\n",
      "    Take elements from an array along an axis.\n",
      "    \n",
      "    When axis is not None, this function does the same thing as \"fancy\"\n",
      "    indexing (indexing arrays using arrays); however, it can be easier to use\n",
      "    if you need elements along a given axis. A call such as\n",
      "    ``np.take(arr, indices, axis=3)`` is equivalent to\n",
      "    ``arr[:,:,:,indices,...]``.\n",
      "    \n",
      "    Explained without fancy indexing, this is equivalent to the following use\n",
      "    of `ndindex`, which sets each of ``ii``, ``jj``, and ``kk`` to a tuple of\n",
      "    indices::\n",
      "    \n",
      "        Ni, Nk = a.shape[:axis], a.shape[axis+1:]\n",
      "        Nj = indices.shape\n",
      "        for ii in ndindex(Ni):\n",
      "            for jj in ndindex(Nj):\n",
      "                for kk in ndindex(Nk):\n",
      "                    out[ii + jj + kk] = a[ii + (indices[jj],) + kk]\n",
      "    \n",
      "    Parameters\n",
      "    ----------\n",
      "    a : array_like (Ni..., M, Nk...)\n",
      "        The source array.\n",
      "    indices : array_like (Nj...)\n",
      "        The indices of the values to extract.\n",
      "    \n",
      "        .. versionadded:: 1.8.0\n",
      "    \n",
      "        Also allow scalars for indices.\n",
      "    axis : int, optional\n",
      "        The axis over which to select values. By default, the flattened\n",
      "        input array is used.\n",
      "    out : ndarray, optional (Ni..., Nj..., Nk...)\n",
      "        If provided, the result will be placed in this array. It should\n",
      "        be of the appropriate shape and dtype. Note that `out` is always\n",
      "        buffered if `mode='raise'`; use other modes for better performance.\n",
      "    mode : {'raise', 'wrap', 'clip'}, optional\n",
      "        Specifies how out-of-bounds indices will behave.\n",
      "    \n",
      "        * 'raise' -- raise an error (default)\n",
      "        * 'wrap' -- wrap around\n",
      "        * 'clip' -- clip to the range\n",
      "    \n",
      "        'clip' mode means that all indices that are too large are replaced\n",
      "        by the index that addresses the last element along that axis. Note\n",
      "        that this disables indexing with negative numbers.\n",
      "    \n",
      "    Returns\n",
      "    -------\n",
      "    out : ndarray (Ni..., Nj..., Nk...)\n",
      "        The returned array has the same type as `a`.\n",
      "    \n",
      "    See Also\n",
      "    --------\n",
      "    compress : Take elements using a boolean mask\n",
      "    ndarray.take : equivalent method\n",
      "    take_along_axis : Take elements by matching the array and the index arrays\n",
      "    \n",
      "    Notes\n",
      "    -----\n",
      "    \n",
      "    By eliminating the inner loop in the description above, and using `s_` to\n",
      "    build simple slice objects, `take` can be expressed  in terms of applying\n",
      "    fancy indexing to each 1-d slice::\n",
      "    \n",
      "        Ni, Nk = a.shape[:axis], a.shape[axis+1:]\n",
      "        for ii in ndindex(Ni):\n",
      "            for kk in ndindex(Nj):\n",
      "                out[ii + s_[...,] + kk] = a[ii + s_[:,] + kk][indices]\n",
      "    \n",
      "    For this reason, it is equivalent to (but faster than) the following use\n",
      "    of `apply_along_axis`::\n",
      "    \n",
      "        out = np.apply_along_axis(lambda a_1d: a_1d[indices], axis, a)\n",
      "    \n",
      "    Examples\n",
      "    --------\n",
      "    >>> a = [4, 3, 5, 7, 6, 8]\n",
      "    >>> indices = [0, 1, 4]\n",
      "    >>> np.take(a, indices)\n",
      "    array([4, 3, 6])\n",
      "    \n",
      "    In this example if `a` is an ndarray, \"fancy\" indexing can be used.\n",
      "    \n",
      "    >>> a = np.array(a)\n",
      "    >>> a[indices]\n",
      "    array([4, 3, 6])\n",
      "    \n",
      "    If `indices` is not one dimensional, the output also has these dimensions.\n",
      "    \n",
      "    >>> np.take(a, [[0, 1], [2, 3]])\n",
      "    array([[4, 3],\n",
      "           [5, 7]])\n",
      "\n"
     ]
    }
   ],
   "source": [
    "help(np.take)"
   ]
  },
  {
   "cell_type": "code",
   "execution_count": 209,
   "id": "f6e5b19a",
   "metadata": {},
   "outputs": [
    {
     "data": {
      "text/plain": [
       "array([1, 3])"
      ]
     },
     "execution_count": 209,
     "metadata": {},
     "output_type": "execute_result"
    }
   ],
   "source": [
    "a = np.array([[1, 2], [3, 4], [5, 6]])\n",
    "np.take(a, [0, 2])"
   ]
  },
  {
   "cell_type": "code",
   "execution_count": 259,
   "id": "29f9e634",
   "metadata": {},
   "outputs": [
    {
     "data": {
      "text/plain": [
       "array([[1, 2],\n",
       "       [3, 4]])"
      ]
     },
     "execution_count": 259,
     "metadata": {},
     "output_type": "execute_result"
    }
   ],
   "source": [
    "a = np.array([[1, 2], [3, 4], [5, 6], [7, 8]])\n",
    "np.take(a, [[0, 1], [2, 3]])"
   ]
  },
  {
   "cell_type": "code",
   "execution_count": 336,
   "id": "324ce4d9",
   "metadata": {},
   "outputs": [
    {
     "data": {
      "text/plain": [
       "array([[[1, 2],\n",
       "        [3, 4]],\n",
       "\n",
       "       [[5, 6],\n",
       "        [7, 8]]])"
      ]
     },
     "execution_count": 336,
     "metadata": {},
     "output_type": "execute_result"
    }
   ],
   "source": [
    "a = np.array([[1, 2], [3, 4], [5, 6], [7, 8]])\n",
    "np.take(a, [[0, 1], [2, 3]], axis=0)"
   ]
  },
  {
   "cell_type": "code",
   "execution_count": 334,
   "id": "06ccd933",
   "metadata": {},
   "outputs": [
    {
     "data": {
      "text/plain": [
       "(array([[[[[1, 2],\n",
       "           [1, 2]]]],\n",
       " \n",
       " \n",
       " \n",
       "        [[[[3, 4],\n",
       "           [3, 4]]]],\n",
       " \n",
       " \n",
       " \n",
       "        [[[[5, 6],\n",
       "           [5, 6]]]],\n",
       " \n",
       " \n",
       " \n",
       "        [[[[7, 8],\n",
       "           [7, 8]]]]]),\n",
       " (4, 1, 1, 2, 2),\n",
       " (4, 1, 1, 2, 2))"
      ]
     },
     "execution_count": 334,
     "metadata": {},
     "output_type": "execute_result"
    }
   ],
   "source": [
    "a = np.array([[1, 2], [3, 4], [5, 6], [7, 8]])\n",
    "axis=1\n",
    "indices = np.array([[[[0, 1],[0, 1]]]])\n",
    "np.take(a, indices, axis=axis), np.take(a, indices, axis=axis).shape, a.shape[:axis] + indices.shape + a.shape[axis+1:]"
   ]
  },
  {
   "cell_type": "code",
   "execution_count": 331,
   "id": "247a48ac",
   "metadata": {},
   "outputs": [
    {
     "name": "stdout",
     "output_type": "stream",
     "text": [
      "(0, 0, 0, 0)\n",
      "(0, 0, 0, 1)\n",
      "(0, 0, 1, 0)\n",
      "(0, 0, 1, 1)\n"
     ]
    },
    {
     "data": {
      "text/plain": [
       "array([[[[[1., 2.],\n",
       "          [1., 2.]]]],\n",
       "\n",
       "\n",
       "\n",
       "       [[[[3., 4.],\n",
       "          [3., 4.]]]],\n",
       "\n",
       "\n",
       "\n",
       "       [[[[5., 6.],\n",
       "          [5., 6.]]]],\n",
       "\n",
       "\n",
       "\n",
       "       [[[[7., 8.],\n",
       "          [7., 8.]]]]])"
      ]
     },
     "execution_count": 331,
     "metadata": {},
     "output_type": "execute_result"
    }
   ],
   "source": [
    "c = np.empty(a.shape[:axis] + indices.shape + a.shape[axis+1:])\n",
    "for ind in np.ndindex(indices.shape):\n",
    "    print(ind)\n",
    "c[:,0, 0, 0, 0] = a[:,indices[0, 0, 0, 0]]\n",
    "c[:,0, 0, 0, 1] = a[:,indices[0, 0, 0, 1]]\n",
    "c[:,0, 0, 1, 0] = a[:,indices[0, 0, 1, 0]]\n",
    "c[:,0, 0, 1, 1] = a[:,indices[0, 0, 1, 1]]\n",
    "c"
   ]
  },
  {
   "cell_type": "code",
   "execution_count": 342,
   "id": "5c17f621",
   "metadata": {},
   "outputs": [
    {
     "data": {
      "text/plain": [
       "array([[1, 2, 3, 0, 0, 4, 5, 6]])"
      ]
     },
     "execution_count": 342,
     "metadata": {},
     "output_type": "execute_result"
    }
   ],
   "source": [
    "np.c_[np.array([[1,2,3]]), 0, 0, np.array([[4,5,6]])]"
   ]
  },
  {
   "cell_type": "code",
   "execution_count": 338,
   "id": "b089cb94",
   "metadata": {},
   "outputs": [
    {
     "data": {
      "text/plain": [
       "array([[1, 4],\n",
       "       [2, 5],\n",
       "       [3, 6]])"
      ]
     },
     "execution_count": 338,
     "metadata": {},
     "output_type": "execute_result"
    }
   ],
   "source": [
    "np.c_[np.array([1,2,3]), np.array([4,5,6])]"
   ]
  },
  {
   "cell_type": "code",
   "execution_count": 343,
   "id": "6788a712",
   "metadata": {},
   "outputs": [
    {
     "data": {
      "text/plain": [
       "(array([[0],\n",
       "        [1]], dtype=int64),\n",
       " array([[2, 4]]))"
      ]
     },
     "execution_count": 343,
     "metadata": {},
     "output_type": "execute_result"
    }
   ],
   "source": [
    "np.ix_([True, True], [2, 4])"
   ]
  },
  {
   "cell_type": "code",
   "execution_count": 344,
   "id": "dcd9ceea",
   "metadata": {},
   "outputs": [
    {
     "data": {
      "text/plain": [
       "(array([[0],\n",
       "        [1]], dtype=int64),\n",
       " array([[2, 4]], dtype=int64))"
      ]
     },
     "execution_count": 344,
     "metadata": {},
     "output_type": "execute_result"
    }
   ],
   "source": [
    "np.ix_([True, True], [False, False, True, False, True])"
   ]
  },
  {
   "cell_type": "code",
   "execution_count": 345,
   "id": "cb5b5edd",
   "metadata": {},
   "outputs": [
    {
     "data": {
      "text/plain": [
       "array([[[0, 0, 0],\n",
       "        [1, 1, 1]],\n",
       "\n",
       "       [[0, 1, 2],\n",
       "        [0, 1, 2]]])"
      ]
     },
     "execution_count": 345,
     "metadata": {},
     "output_type": "execute_result"
    }
   ],
   "source": [
    "np.indices((2, 3))"
   ]
  },
  {
   "cell_type": "code",
   "execution_count": 367,
   "id": "032d98f6",
   "metadata": {},
   "outputs": [
    {
     "data": {
      "text/plain": [
       "(array([ 0,  1,  2,  3,  4,  5,  6,  7,  8,  9, 10, 11, 12, 13, 14, 15, 16,\n",
       "        17, 18, 19, 20, 21, 22, 23, 24, 25, 26, 27, 28, 29, 30, 31, 32, 33,\n",
       "        34, 35, 36, 37, 38, 39, 40, 41, 42, 43, 44, 45, 46, 47, 48, 49, 50,\n",
       "        51, 52, 53, 54, 55, 56, 57, 58, 59]),\n",
       " True)"
      ]
     },
     "execution_count": 367,
     "metadata": {},
     "output_type": "execute_result"
    }
   ],
   "source": [
    "a = np.arange(3*4*5)\n",
    "b = a.reshape((3, 4, 5))\n",
    "a, np.swapaxes(b, 0, -1).base is a"
   ]
  },
  {
   "cell_type": "code",
   "execution_count": 369,
   "id": "f56866a7",
   "metadata": {},
   "outputs": [
    {
     "data": {
      "text/plain": [
       "True"
      ]
     },
     "execution_count": 369,
     "metadata": {},
     "output_type": "execute_result"
    }
   ],
   "source": [
    "a = np.arange(3*4*5).reshape((3, 4, 5))\n",
    "np.ascontiguousarray(a) is a"
   ]
  },
  {
   "cell_type": "code",
   "execution_count": 428,
   "id": "7f2f1086",
   "metadata": {},
   "outputs": [
    {
     "data": {
      "text/plain": [
       "(True,\n",
       " (40, 8),\n",
       " (4, 5),\n",
       " array([[1., 1., 1., 1., 1.],\n",
       "        [1., 1., 1., 1., 1.],\n",
       "        [1., 1., 1., 1., 1.],\n",
       "        [1., 1., 1., 1., 1.]]))"
      ]
     },
     "execution_count": 428,
     "metadata": {},
     "output_type": "execute_result"
    }
   ],
   "source": [
    "b = np.ones((3,4,5))[2,:,:]\n",
    "np.ascontiguousarray(b) is b, b.strides, b.shape, b"
   ]
  },
  {
   "cell_type": "code",
   "execution_count": 475,
   "id": "db0172a9",
   "metadata": {},
   "outputs": [
    {
     "data": {
      "text/plain": [
       "(True, (8,), (1,), array([1.]), 8)"
      ]
     },
     "execution_count": 475,
     "metadata": {},
     "output_type": "execute_result"
    }
   ],
   "source": [
    "b = np.ones((3,))[1:2]\n",
    "np.ascontiguousarray(b) is b, b.strides, b.shape, b, b.itemsize"
   ]
  },
  {
   "cell_type": "code",
   "execution_count": 479,
   "id": "9c0df335",
   "metadata": {},
   "outputs": [
    {
     "data": {
      "text/plain": [
       "True"
      ]
     },
     "execution_count": 479,
     "metadata": {},
     "output_type": "execute_result"
    }
   ],
   "source": [
    "b.reshape(-1).base is b.base"
   ]
  },
  {
   "cell_type": "code",
   "execution_count": 495,
   "id": "50143026",
   "metadata": {},
   "outputs": [
    {
     "data": {
      "text/plain": [
       "(array([[1, 1],\n",
       "        [2, 2],\n",
       "        [3, 3]]),\n",
       " True)"
      ]
     },
     "execution_count": 495,
     "metadata": {},
     "output_type": "execute_result"
    }
   ],
   "source": [
    "x = np.array([[1,2,3],[1,2,3]])\n",
    "y = np.swapaxes(x,0,1)\n",
    "y, y.base is x"
   ]
  },
  {
   "cell_type": "code",
   "execution_count": 519,
   "id": "19111cd5",
   "metadata": {},
   "outputs": [
    {
     "name": "stdout",
     "output_type": "stream",
     "text": [
      "Help on function transpose in module numpy:\n",
      "\n",
      "transpose(a, axes=None)\n",
      "    Reverse or permute the axes of an array; returns the modified array.\n",
      "    \n",
      "    For an array a with two axes, transpose(a) gives the matrix transpose.\n",
      "    \n",
      "    Refer to `numpy.ndarray.transpose` for full documentation.\n",
      "    \n",
      "    Parameters\n",
      "    ----------\n",
      "    a : array_like\n",
      "        Input array.\n",
      "    axes : tuple or list of ints, optional\n",
      "        If specified, it must be a tuple or list which contains a permutation of\n",
      "        [0,1,..,N-1] where N is the number of axes of a.  The i'th axis of the\n",
      "        returned array will correspond to the axis numbered ``axes[i]`` of the\n",
      "        input.  If not specified, defaults to ``range(a.ndim)[::-1]``, which\n",
      "        reverses the order of the axes.\n",
      "    \n",
      "    Returns\n",
      "    -------\n",
      "    p : ndarray\n",
      "        `a` with its axes permuted.  A view is returned whenever\n",
      "        possible.\n",
      "    \n",
      "    See Also\n",
      "    --------\n",
      "    ndarray.transpose : Equivalent method\n",
      "    moveaxis\n",
      "    argsort\n",
      "    \n",
      "    Notes\n",
      "    -----\n",
      "    Use `transpose(a, argsort(axes))` to invert the transposition of tensors\n",
      "    when using the `axes` keyword argument.\n",
      "    \n",
      "    Transposing a 1-D array returns an unchanged view of the original array.\n",
      "    \n",
      "    Examples\n",
      "    --------\n",
      "    >>> x = np.arange(4).reshape((2,2))\n",
      "    >>> x\n",
      "    array([[0, 1],\n",
      "           [2, 3]])\n",
      "    \n",
      "    >>> np.transpose(x)\n",
      "    array([[0, 2],\n",
      "           [1, 3]])\n",
      "    \n",
      "    >>> x = np.ones((1, 2, 3))\n",
      "    >>> np.transpose(x, (1, 0, 2)).shape\n",
      "    (2, 1, 3)\n",
      "    \n",
      "    >>> x = np.ones((2, 3, 4, 5))\n",
      "    >>> np.transpose(x).shape\n",
      "    (5, 4, 3, 2)\n",
      "\n"
     ]
    }
   ],
   "source": [
    "help(np.transpose)"
   ]
  },
  {
   "cell_type": "code",
   "execution_count": 518,
   "id": "c8955b4c",
   "metadata": {},
   "outputs": [
    {
     "ename": "ValueError",
     "evalue": "repeated axis in transpose",
     "output_type": "error",
     "traceback": [
      "\u001b[1;31m---------------------------------------------------------------------------\u001b[0m",
      "\u001b[1;31mValueError\u001b[0m                                Traceback (most recent call last)",
      "Cell \u001b[1;32mIn [518], line 2\u001b[0m\n\u001b[0;32m      1\u001b[0m a \u001b[38;5;241m=\u001b[39m np\u001b[38;5;241m.\u001b[39marray([[\u001b[38;5;241m1\u001b[39m, \u001b[38;5;241m2\u001b[39m], [\u001b[38;5;241m3\u001b[39m, \u001b[38;5;241m4\u001b[39m]])\n\u001b[1;32m----> 2\u001b[0m \u001b[43mnp\u001b[49m\u001b[38;5;241;43m.\u001b[39;49m\u001b[43mtranspose\u001b[49m\u001b[43m(\u001b[49m\u001b[43ma\u001b[49m\u001b[43m,\u001b[49m\u001b[43m \u001b[49m\u001b[43mnp\u001b[49m\u001b[38;5;241;43m.\u001b[39;49m\u001b[43marray\u001b[49m\u001b[43m(\u001b[49m\u001b[43m(\u001b[49m\u001b[38;5;241;43m0\u001b[39;49m\u001b[43m,\u001b[49m\u001b[43m \u001b[49m\u001b[38;5;241;43m-\u001b[39;49m\u001b[38;5;241;43m2\u001b[39;49m\u001b[43m)\u001b[49m\u001b[43m)\u001b[49m\u001b[43m)\u001b[49m\u001b[38;5;241m.\u001b[39mbase\n",
      "File \u001b[1;32m<__array_function__ internals>:180\u001b[0m, in \u001b[0;36mtranspose\u001b[1;34m(*args, **kwargs)\u001b[0m\n",
      "File \u001b[1;32m~\\.conda\\envs\\tf2\\lib\\site-packages\\numpy\\core\\fromnumeric.py:660\u001b[0m, in \u001b[0;36mtranspose\u001b[1;34m(a, axes)\u001b[0m\n\u001b[0;32m    601\u001b[0m \u001b[38;5;129m@array_function_dispatch\u001b[39m(_transpose_dispatcher)\n\u001b[0;32m    602\u001b[0m \u001b[38;5;28;01mdef\u001b[39;00m \u001b[38;5;21mtranspose\u001b[39m(a, axes\u001b[38;5;241m=\u001b[39m\u001b[38;5;28;01mNone\u001b[39;00m):\n\u001b[0;32m    603\u001b[0m     \u001b[38;5;124;03m\"\"\"\u001b[39;00m\n\u001b[0;32m    604\u001b[0m \u001b[38;5;124;03m    Reverse or permute the axes of an array; returns the modified array.\u001b[39;00m\n\u001b[0;32m    605\u001b[0m \n\u001b[1;32m   (...)\u001b[0m\n\u001b[0;32m    658\u001b[0m \n\u001b[0;32m    659\u001b[0m \u001b[38;5;124;03m    \"\"\"\u001b[39;00m\n\u001b[1;32m--> 660\u001b[0m     \u001b[38;5;28;01mreturn\u001b[39;00m \u001b[43m_wrapfunc\u001b[49m\u001b[43m(\u001b[49m\u001b[43ma\u001b[49m\u001b[43m,\u001b[49m\u001b[43m \u001b[49m\u001b[38;5;124;43m'\u001b[39;49m\u001b[38;5;124;43mtranspose\u001b[39;49m\u001b[38;5;124;43m'\u001b[39;49m\u001b[43m,\u001b[49m\u001b[43m \u001b[49m\u001b[43maxes\u001b[49m\u001b[43m)\u001b[49m\n",
      "File \u001b[1;32m~\\.conda\\envs\\tf2\\lib\\site-packages\\numpy\\core\\fromnumeric.py:57\u001b[0m, in \u001b[0;36m_wrapfunc\u001b[1;34m(obj, method, *args, **kwds)\u001b[0m\n\u001b[0;32m     54\u001b[0m     \u001b[38;5;28;01mreturn\u001b[39;00m _wrapit(obj, method, \u001b[38;5;241m*\u001b[39margs, \u001b[38;5;241m*\u001b[39m\u001b[38;5;241m*\u001b[39mkwds)\n\u001b[0;32m     56\u001b[0m \u001b[38;5;28;01mtry\u001b[39;00m:\n\u001b[1;32m---> 57\u001b[0m     \u001b[38;5;28;01mreturn\u001b[39;00m bound(\u001b[38;5;241m*\u001b[39margs, \u001b[38;5;241m*\u001b[39m\u001b[38;5;241m*\u001b[39mkwds)\n\u001b[0;32m     58\u001b[0m \u001b[38;5;28;01mexcept\u001b[39;00m \u001b[38;5;167;01mTypeError\u001b[39;00m:\n\u001b[0;32m     59\u001b[0m     \u001b[38;5;66;03m# A TypeError occurs if the object does have such a method in its\u001b[39;00m\n\u001b[0;32m     60\u001b[0m     \u001b[38;5;66;03m# class, but its signature is not identical to that of NumPy's. This\u001b[39;00m\n\u001b[1;32m   (...)\u001b[0m\n\u001b[0;32m     64\u001b[0m     \u001b[38;5;66;03m# Call _wrapit from within the except clause to ensure a potential\u001b[39;00m\n\u001b[0;32m     65\u001b[0m     \u001b[38;5;66;03m# exception has a traceback chain.\u001b[39;00m\n\u001b[0;32m     66\u001b[0m     \u001b[38;5;28;01mreturn\u001b[39;00m _wrapit(obj, method, \u001b[38;5;241m*\u001b[39margs, \u001b[38;5;241m*\u001b[39m\u001b[38;5;241m*\u001b[39mkwds)\n",
      "\u001b[1;31mValueError\u001b[0m: repeated axis in transpose"
     ]
    }
   ],
   "source": [
    "a = np.array([[1, 2], [3, 4]])\n",
    "np.transpose(a, np.array((0, -2))).base"
   ]
  },
  {
   "cell_type": "code",
   "execution_count": 521,
   "id": "afe05175",
   "metadata": {},
   "outputs": [
    {
     "data": {
      "text/plain": [
       "array([[[1., 1., 1.]],\n",
       "\n",
       "       [[1., 1., 1.]]])"
      ]
     },
     "execution_count": 521,
     "metadata": {},
     "output_type": "execute_result"
    }
   ],
   "source": [
    "x = np.ones((1, 2, 3))\n",
    "np.transpose(x, (1, 0, 2))"
   ]
  },
  {
   "cell_type": "code",
   "execution_count": 546,
   "id": "7bf85603",
   "metadata": {},
   "outputs": [
    {
     "data": {
      "text/plain": [
       "(4, 4, 4)"
      ]
     },
     "execution_count": 546,
     "metadata": {},
     "output_type": "execute_result"
    }
   ],
   "source": [
    "np.atleast_3d(1).strides"
   ]
  },
  {
   "cell_type": "code",
   "execution_count": 620,
   "id": "c62becf6",
   "metadata": {},
   "outputs": [
    {
     "data": {
      "text/plain": [
       "(array([1]), 1, array([-96]), True, True, True, array(-96))"
      ]
     },
     "execution_count": 620,
     "metadata": {},
     "output_type": "execute_result"
    }
   ],
   "source": [
    "x = np.array([1])\n",
    "y = x[0]\n",
    "z = np.atleast_1d(y)\n",
    "z[0] = -96\n",
    "x, y, z, x.base is None, y.base is None, z.base is not y, z.base"
   ]
  },
  {
   "cell_type": "code",
   "execution_count": 572,
   "id": "543be518",
   "metadata": {},
   "outputs": [],
   "source": [
    "x = np.ones((1, 2, 3))"
   ]
  },
  {
   "cell_type": "code",
   "execution_count": 624,
   "id": "6cbb188f",
   "metadata": {},
   "outputs": [
    {
     "data": {
      "text/plain": [
       "[(4, 4), (0, 4), (8, 4)]"
      ]
     },
     "execution_count": 624,
     "metadata": {},
     "output_type": "execute_result"
    }
   ],
   "source": [
    "[array.strides for array in np.atleast_2d(1, [1, 2], [[1, 2]])]"
   ]
  },
  {
   "cell_type": "code",
   "execution_count": 629,
   "id": "8b9b2592",
   "metadata": {},
   "outputs": [
    {
     "data": {
      "text/plain": [
       "(0, 4, 0)"
      ]
     },
     "execution_count": 629,
     "metadata": {},
     "output_type": "execute_result"
    }
   ],
   "source": [
    "np.atleast_3d([1, 2]).strides"
   ]
  },
  {
   "cell_type": "code",
   "execution_count": 637,
   "id": "5ee2fb92",
   "metadata": {},
   "outputs": [
    {
     "ename": "TypeError",
     "evalue": "'tuple' object cannot be interpreted as an integer",
     "output_type": "error",
     "traceback": [
      "\u001b[1;31m---------------------------------------------------------------------------\u001b[0m",
      "\u001b[1;31mTypeError\u001b[0m                                 Traceback (most recent call last)",
      "Cell \u001b[1;32mIn [637], line 1\u001b[0m\n\u001b[1;32m----> 1\u001b[0m \u001b[43mnp\u001b[49m\u001b[38;5;241;43m.\u001b[39;49m\u001b[43marange\u001b[49m\u001b[43m(\u001b[49m\u001b[38;5;241;43m12.0\u001b[39;49m\u001b[43m)\u001b[49m\u001b[38;5;241;43m.\u001b[39;49m\u001b[43mreshape\u001b[49m\u001b[43m(\u001b[49m\u001b[43m(\u001b[49m\u001b[38;5;241;43m4\u001b[39;49m\u001b[43m,\u001b[49m\u001b[38;5;241;43m3\u001b[39;49m\u001b[43m)\u001b[49m\u001b[43m,\u001b[49m\u001b[38;5;241;43m1\u001b[39;49m\u001b[43m)\u001b[49m\n",
      "\u001b[1;31mTypeError\u001b[0m: 'tuple' object cannot be interpreted as an integer"
     ]
    }
   ],
   "source": [
    "np.arange(12.0).reshape((4,3),1)"
   ]
  },
  {
   "cell_type": "code",
   "execution_count": 700,
   "id": "3e9529ae",
   "metadata": {},
   "outputs": [
    {
     "data": {
      "text/plain": [
       "(3, (3, 3))"
      ]
     },
     "execution_count": 700,
     "metadata": {},
     "output_type": "execute_result"
    }
   ],
   "source": [
    "x = np.array([1, 2, 3])\n",
    "y = np.array([[4], [5], [6]])\n",
    "y = np.array([[4], [5], [6]])\n",
    "b = np.broadcast(x, y, z)\n",
    "b.numiter, b.shape"
   ]
  },
  {
   "cell_type": "code",
   "execution_count": 666,
   "id": "f895b6cc",
   "metadata": {},
   "outputs": [
    {
     "data": {
      "text/plain": [
       "(1, 4, -96)"
      ]
     },
     "execution_count": 666,
     "metadata": {},
     "output_type": "execute_result"
    }
   ],
   "source": [
    "i, j, k = b.iters\n",
    "next(i), next(j), next(k)"
   ]
  },
  {
   "cell_type": "code",
   "execution_count": 693,
   "id": "90cb420e",
   "metadata": {},
   "outputs": [
    {
     "data": {
      "text/plain": [
       "(1, 4)"
      ]
     },
     "execution_count": 693,
     "metadata": {},
     "output_type": "execute_result"
    }
   ],
   "source": [
    "x = np.array([1, 2, 3])\n",
    "y = np.array([[4], [5], [6]])\n",
    "b = np.broadcast(x, y)\n",
    "row, col = b.iters\n",
    "next(row), next(col)"
   ]
  },
  {
   "cell_type": "code",
   "execution_count": 699,
   "id": "fb79a572",
   "metadata": {},
   "outputs": [
    {
     "data": {
      "text/plain": [
       "6"
      ]
     },
     "execution_count": 699,
     "metadata": {},
     "output_type": "execute_result"
    }
   ],
   "source": [
    "next(col)"
   ]
  },
  {
   "cell_type": "code",
   "execution_count": 709,
   "id": "386df043",
   "metadata": {},
   "outputs": [
    {
     "data": {
      "text/plain": [
       "((2,), (1, 1, 1, 1, 2))"
      ]
     },
     "execution_count": 709,
     "metadata": {},
     "output_type": "execute_result"
    }
   ],
   "source": [
    "x = np.array([1, 2])\n",
    "y = np.expand_dims(x, axis=(0,1,2,3))\n",
    "x.shape, y.shape"
   ]
  },
  {
   "cell_type": "code",
   "execution_count": 712,
   "id": "def9b193",
   "metadata": {},
   "outputs": [
    {
     "name": "stdout",
     "output_type": "stream",
     "text": [
      "Help on built-in function normalize_axis_index in module numpy.core._multiarray_umath:\n",
      "\n",
      "normalize_axis_index(...)\n",
      "    normalize_axis_index(axis, ndim, msg_prefix=None)\n",
      "    \n",
      "    Normalizes an axis index, `axis`, such that is a valid positive index into\n",
      "    the shape of array with `ndim` dimensions. Raises an AxisError with an\n",
      "    appropriate message if this is not possible.\n",
      "    \n",
      "    Used internally by all axis-checking logic.\n",
      "    \n",
      "    .. versionadded:: 1.13.0\n",
      "    \n",
      "    Parameters\n",
      "    ----------\n",
      "    axis : int\n",
      "        The un-normalized index of the axis. Can be negative\n",
      "    ndim : int\n",
      "        The number of dimensions of the array that `axis` should be normalized\n",
      "        against\n",
      "    msg_prefix : str\n",
      "        A prefix to put before the message, typically the name of the argument\n",
      "    \n",
      "    Returns\n",
      "    -------\n",
      "    normalized_axis : int\n",
      "        The normalized axis index, such that `0 <= normalized_axis < ndim`\n",
      "    \n",
      "    Raises\n",
      "    ------\n",
      "    AxisError\n",
      "        If the axis index is invalid, when `-ndim <= axis < ndim` is false.\n",
      "    \n",
      "    Examples\n",
      "    --------\n",
      "    >>> normalize_axis_index(0, ndim=3)\n",
      "    0\n",
      "    >>> normalize_axis_index(1, ndim=3)\n",
      "    1\n",
      "    >>> normalize_axis_index(-1, ndim=3)\n",
      "    2\n",
      "    \n",
      "    >>> normalize_axis_index(3, ndim=3)\n",
      "    Traceback (most recent call last):\n",
      "    ...\n",
      "    AxisError: axis 3 is out of bounds for array of dimension 3\n",
      "    >>> normalize_axis_index(-4, ndim=3, msg_prefix='axes_arg')\n",
      "    Traceback (most recent call last):\n",
      "    ...\n",
      "    AxisError: axes_arg: axis -4 is out of bounds for array of dimension 3\n",
      "\n"
     ]
    }
   ],
   "source": [
    "help(np.core.multiarray.normalize_axis_index)"
   ]
  },
  {
   "cell_type": "code",
   "execution_count": 715,
   "id": "7a3d7acb",
   "metadata": {},
   "outputs": [
    {
     "name": "stdout",
     "output_type": "stream",
     "text": [
      "Help on function squeeze in module numpy:\n",
      "\n",
      "squeeze(a, axis=None)\n",
      "    Remove axes of length one from `a`.\n",
      "    \n",
      "    Parameters\n",
      "    ----------\n",
      "    a : array_like\n",
      "        Input data.\n",
      "    axis : None or int or tuple of ints, optional\n",
      "        .. versionadded:: 1.7.0\n",
      "    \n",
      "        Selects a subset of the entries of length one in the\n",
      "        shape. If an axis is selected with shape entry greater than\n",
      "        one, an error is raised.\n",
      "    \n",
      "    Returns\n",
      "    -------\n",
      "    squeezed : ndarray\n",
      "        The input array, but with all or a subset of the\n",
      "        dimensions of length 1 removed. This is always `a` itself\n",
      "        or a view into `a`. Note that if all axes are squeezed,\n",
      "        the result is a 0d array and not a scalar.\n",
      "    \n",
      "    Raises\n",
      "    ------\n",
      "    ValueError\n",
      "        If `axis` is not None, and an axis being squeezed is not of length 1\n",
      "    \n",
      "    See Also\n",
      "    --------\n",
      "    expand_dims : The inverse operation, adding entries of length one\n",
      "    reshape : Insert, remove, and combine dimensions, and resize existing ones\n",
      "    \n",
      "    Examples\n",
      "    --------\n",
      "    >>> x = np.array([[[0], [1], [2]]])\n",
      "    >>> x.shape\n",
      "    (1, 3, 1)\n",
      "    >>> np.squeeze(x).shape\n",
      "    (3,)\n",
      "    >>> np.squeeze(x, axis=0).shape\n",
      "    (3, 1)\n",
      "    >>> np.squeeze(x, axis=1).shape\n",
      "    Traceback (most recent call last):\n",
      "    ...\n",
      "    ValueError: cannot select an axis to squeeze out which has size not equal to one\n",
      "    >>> np.squeeze(x, axis=2).shape\n",
      "    (1, 3)\n",
      "    >>> x = np.array([[1234]])\n",
      "    >>> x.shape\n",
      "    (1, 1)\n",
      "    >>> np.squeeze(x)\n",
      "    array(1234)  # 0d array\n",
      "    >>> np.squeeze(x).shape\n",
      "    ()\n",
      "    >>> np.squeeze(x)[()]\n",
      "    1234\n",
      "\n"
     ]
    }
   ],
   "source": [
    "help(np.squeeze)"
   ]
  },
  {
   "cell_type": "code",
   "execution_count": 750,
   "id": "2430f20e",
   "metadata": {},
   "outputs": [
    {
     "ename": "AxisError",
     "evalue": "axis -2 is out of bounds for array of dimension 1",
     "output_type": "error",
     "traceback": [
      "\u001b[1;31m---------------------------------------------------------------------------\u001b[0m",
      "\u001b[1;31mAxisError\u001b[0m                                 Traceback (most recent call last)",
      "Cell \u001b[1;32mIn [750], line 1\u001b[0m\n\u001b[1;32m----> 1\u001b[0m \u001b[43mnp\u001b[49m\u001b[38;5;241;43m.\u001b[39;49m\u001b[43mcore\u001b[49m\u001b[38;5;241;43m.\u001b[39;49m\u001b[43mmultiarray\u001b[49m\u001b[38;5;241;43m.\u001b[39;49m\u001b[43mnormalize_axis_index\u001b[49m\u001b[43m(\u001b[49m\u001b[38;5;241;43m-\u001b[39;49m\u001b[38;5;241;43m2\u001b[39;49m\u001b[43m,\u001b[49m\u001b[38;5;241;43m1\u001b[39;49m\u001b[43m)\u001b[49m\n",
      "\u001b[1;31mAxisError\u001b[0m: axis -2 is out of bounds for array of dimension 1"
     ]
    }
   ],
   "source": [
    "np.core.multiarray.normalize_axis_index(-2,1)"
   ]
  },
  {
   "cell_type": "code",
   "execution_count": 743,
   "id": "3d307a11",
   "metadata": {},
   "outputs": [
    {
     "name": "stdout",
     "output_type": "stream",
     "text": [
      "Help on function normalize_axis_tuple in module numpy.core.numeric:\n",
      "\n",
      "normalize_axis_tuple(axis, ndim, argname=None, allow_duplicate=False)\n",
      "    Normalizes an axis argument into a tuple of non-negative integer axes.\n",
      "    \n",
      "    This handles shorthands such as ``1`` and converts them to ``(1,)``,\n",
      "    as well as performing the handling of negative indices covered by\n",
      "    `normalize_axis_index`.\n",
      "    \n",
      "    By default, this forbids axes from being specified multiple times.\n",
      "    \n",
      "    Used internally by multi-axis-checking logic.\n",
      "    \n",
      "    .. versionadded:: 1.13.0\n",
      "    \n",
      "    Parameters\n",
      "    ----------\n",
      "    axis : int, iterable of int\n",
      "        The un-normalized index or indices of the axis.\n",
      "    ndim : int\n",
      "        The number of dimensions of the array that `axis` should be normalized\n",
      "        against.\n",
      "    argname : str, optional\n",
      "        A prefix to put before the error message, typically the name of the\n",
      "        argument.\n",
      "    allow_duplicate : bool, optional\n",
      "        If False, the default, disallow an axis from being specified twice.\n",
      "    \n",
      "    Returns\n",
      "    -------\n",
      "    normalized_axes : tuple of int\n",
      "        The normalized axis index, such that `0 <= normalized_axis < ndim`\n",
      "    \n",
      "    Raises\n",
      "    ------\n",
      "    AxisError\n",
      "        If any axis provided is out of range\n",
      "    ValueError\n",
      "        If an axis is repeated\n",
      "    \n",
      "    See also\n",
      "    --------\n",
      "    normalize_axis_index : normalizing a single scalar axis\n",
      "\n"
     ]
    }
   ],
   "source": [
    "help(np.core.numeric.normalize_axis_tuple)"
   ]
  },
  {
   "cell_type": "code",
   "execution_count": 751,
   "id": "3d64c483",
   "metadata": {},
   "outputs": [
    {
     "ename": "ValueError",
     "evalue": "duplicate value in 'axis'",
     "output_type": "error",
     "traceback": [
      "\u001b[1;31m---------------------------------------------------------------------------\u001b[0m",
      "\u001b[1;31mValueError\u001b[0m                                Traceback (most recent call last)",
      "Cell \u001b[1;32mIn [751], line 2\u001b[0m\n\u001b[0;32m      1\u001b[0m x \u001b[38;5;241m=\u001b[39m np\u001b[38;5;241m.\u001b[39marray([[[\u001b[38;5;241m0\u001b[39m], [\u001b[38;5;241m1\u001b[39m], [\u001b[38;5;241m2\u001b[39m]]])\n\u001b[1;32m----> 2\u001b[0m \u001b[43mnp\u001b[49m\u001b[38;5;241;43m.\u001b[39;49m\u001b[43msqueeze\u001b[49m\u001b[43m(\u001b[49m\u001b[43mx\u001b[49m\u001b[43m,\u001b[49m\u001b[43m \u001b[49m\u001b[43maxis\u001b[49m\u001b[38;5;241;43m=\u001b[39;49m\u001b[43m(\u001b[49m\u001b[38;5;241;43m-\u001b[39;49m\u001b[38;5;241;43m1\u001b[39;49m\u001b[43m,\u001b[49m\u001b[43m \u001b[49m\u001b[38;5;241;43m-\u001b[39;49m\u001b[38;5;241;43m1\u001b[39;49m\u001b[43m)\u001b[49m\u001b[43m)\u001b[49m\n",
      "File \u001b[1;32m<__array_function__ internals>:180\u001b[0m, in \u001b[0;36msqueeze\u001b[1;34m(*args, **kwargs)\u001b[0m\n",
      "File \u001b[1;32m~\\.conda\\envs\\tf2\\lib\\site-packages\\numpy\\core\\fromnumeric.py:1545\u001b[0m, in \u001b[0;36msqueeze\u001b[1;34m(a, axis)\u001b[0m\n\u001b[0;32m   1543\u001b[0m     \u001b[38;5;28;01mreturn\u001b[39;00m squeeze()\n\u001b[0;32m   1544\u001b[0m \u001b[38;5;28;01melse\u001b[39;00m:\n\u001b[1;32m-> 1545\u001b[0m     \u001b[38;5;28;01mreturn\u001b[39;00m \u001b[43msqueeze\u001b[49m\u001b[43m(\u001b[49m\u001b[43maxis\u001b[49m\u001b[38;5;241;43m=\u001b[39;49m\u001b[43maxis\u001b[49m\u001b[43m)\u001b[49m\n",
      "\u001b[1;31mValueError\u001b[0m: duplicate value in 'axis'"
     ]
    }
   ],
   "source": [
    "x = np.array([[[0], [1], [2]]])\n",
    "np.squeeze(x, axis=(-1, -1))"
   ]
  },
  {
   "cell_type": "code",
   "execution_count": 752,
   "id": "90c07b1f",
   "metadata": {},
   "outputs": [
    {
     "data": {
      "text/plain": [
       "(True,\n",
       " True,\n",
       " True,\n",
       " array([ 0,  1,  2,  3,  4,  5,  6,  7,  8,  9, 10, 11, 12, 13, 14, 15, 16,\n",
       "        17, 18, 19]),\n",
       " array([[ 0,  1,  2,  3],\n",
       "        [ 4,  5,  6,  7],\n",
       "        [ 8,  9, 10, 11],\n",
       "        [12, 13, 14, 15],\n",
       "        [16, 17, 18, 19]]),\n",
       " array([[16, 17, 18, 19],\n",
       "        [12, 13, 14, 15],\n",
       "        [ 8,  9, 10, 11],\n",
       "        [ 4,  5,  6,  7],\n",
       "        [ 0,  1,  2,  3]]),\n",
       " array([[16, 17, 18, 19],\n",
       "        [12, 13, 14, 15],\n",
       "        [ 8,  9, 10, 11],\n",
       "        [ 4,  5,  6,  7],\n",
       "        [ 0,  1,  2,  3]]))"
      ]
     },
     "execution_count": 752,
     "metadata": {},
     "output_type": "execute_result"
    }
   ],
   "source": [
    "x = np.arange(20)\n",
    "y = x.reshape((5, -1))\n",
    "z = y[::-1]\n",
    "a = np.ascontiguousarray(z)\n",
    "b = a.reshape((5, 1, 1, -1))\n",
    "b.reshape((5, -1)).base is a, b.reshape(-1).base is a, np.squeeze(b).base is a, x, y, z, np.squeeze(b)"
   ]
  },
  {
   "cell_type": "code",
   "execution_count": 755,
   "id": "bf9b7850",
   "metadata": {},
   "outputs": [
    {
     "data": {
      "text/plain": [
       "False"
      ]
     },
     "execution_count": 755,
     "metadata": {},
     "output_type": "execute_result"
    }
   ],
   "source": [
    "x = np.array(5)\n",
    "y = np.ascontiguousarray(x)\n",
    "x is y"
   ]
  },
  {
   "cell_type": "code",
   "execution_count": 767,
   "id": "f0b60dd2",
   "metadata": {},
   "outputs": [
    {
     "name": "stdout",
     "output_type": "stream",
     "text": [
      "Help on function nonzero in module numpy:\n",
      "\n",
      "nonzero(a)\n",
      "    Return the indices of the elements that are non-zero.\n",
      "    \n",
      "    Returns a tuple of arrays, one for each dimension of `a`,\n",
      "    containing the indices of the non-zero elements in that\n",
      "    dimension. The values in `a` are always tested and returned in\n",
      "    row-major, C-style order.\n",
      "    \n",
      "    To group the indices by element, rather than dimension, use `argwhere`,\n",
      "    which returns a row for each non-zero element.\n",
      "    \n",
      "    .. note::\n",
      "    \n",
      "       When called on a zero-d array or scalar, ``nonzero(a)`` is treated\n",
      "       as ``nonzero(atleast_1d(a))``.\n",
      "    \n",
      "       .. deprecated:: 1.17.0\n",
      "    \n",
      "          Use `atleast_1d` explicitly if this behavior is deliberate.\n",
      "    \n",
      "    Parameters\n",
      "    ----------\n",
      "    a : array_like\n",
      "        Input array.\n",
      "    \n",
      "    Returns\n",
      "    -------\n",
      "    tuple_of_arrays : tuple\n",
      "        Indices of elements that are non-zero.\n",
      "    \n",
      "    See Also\n",
      "    --------\n",
      "    flatnonzero :\n",
      "        Return indices that are non-zero in the flattened version of the input\n",
      "        array.\n",
      "    ndarray.nonzero :\n",
      "        Equivalent ndarray method.\n",
      "    count_nonzero :\n",
      "        Counts the number of non-zero elements in the input array.\n",
      "    \n",
      "    Notes\n",
      "    -----\n",
      "    While the nonzero values can be obtained with ``a[nonzero(a)]``, it is\n",
      "    recommended to use ``x[x.astype(bool)]`` or ``x[x != 0]`` instead, which\n",
      "    will correctly handle 0-d arrays.\n",
      "    \n",
      "    Examples\n",
      "    --------\n",
      "    >>> x = np.array([[3, 0, 0], [0, 4, 0], [5, 6, 0]])\n",
      "    >>> x\n",
      "    array([[3, 0, 0],\n",
      "           [0, 4, 0],\n",
      "           [5, 6, 0]])\n",
      "    >>> np.nonzero(x)\n",
      "    (array([0, 1, 2, 2]), array([0, 1, 0, 1]))\n",
      "    \n",
      "    >>> x[np.nonzero(x)]\n",
      "    array([3, 4, 5, 6])\n",
      "    >>> np.transpose(np.nonzero(x))\n",
      "    array([[0, 0],\n",
      "           [1, 1],\n",
      "           [2, 0],\n",
      "           [2, 1]])\n",
      "    \n",
      "    A common use for ``nonzero`` is to find the indices of an array, where\n",
      "    a condition is True.  Given an array `a`, the condition `a` > 3 is a\n",
      "    boolean array and since False is interpreted as 0, np.nonzero(a > 3)\n",
      "    yields the indices of the `a` where the condition is true.\n",
      "    \n",
      "    >>> a = np.array([[1, 2, 3], [4, 5, 6], [7, 8, 9]])\n",
      "    >>> a > 3\n",
      "    array([[False, False, False],\n",
      "           [ True,  True,  True],\n",
      "           [ True,  True,  True]])\n",
      "    >>> np.nonzero(a > 3)\n",
      "    (array([1, 1, 1, 2, 2, 2]), array([0, 1, 2, 0, 1, 2]))\n",
      "    \n",
      "    Using this result to index `a` is equivalent to using the mask directly:\n",
      "    \n",
      "    >>> a[np.nonzero(a > 3)]\n",
      "    array([4, 5, 6, 7, 8, 9])\n",
      "    >>> a[a > 3]  # prefer this spelling\n",
      "    array([4, 5, 6, 7, 8, 9])\n",
      "    \n",
      "    ``nonzero`` can also be called as a method of the array.\n",
      "    \n",
      "    >>> (a > 3).nonzero()\n",
      "    (array([1, 1, 1, 2, 2, 2]), array([0, 1, 2, 0, 1, 2]))\n",
      "\n"
     ]
    }
   ],
   "source": [
    "help(np.nonzero)"
   ]
  },
  {
   "cell_type": "code",
   "execution_count": 770,
   "id": "bb4a2e91",
   "metadata": {},
   "outputs": [
    {
     "data": {
      "text/plain": [
       "(array([[[3],\n",
       "         [0],\n",
       "         [0]],\n",
       " \n",
       "        [[0],\n",
       "         [4],\n",
       "         [0]],\n",
       " \n",
       "        [[5],\n",
       "         [6],\n",
       "         [0]]]),\n",
       " (array([0, 1, 2, 2], dtype=int64),\n",
       "  array([0, 1, 0, 1], dtype=int64),\n",
       "  array([0, 0, 0, 0], dtype=int64)))"
      ]
     },
     "execution_count": 770,
     "metadata": {},
     "output_type": "execute_result"
    }
   ],
   "source": [
    "x = np.array([[3, 0, 0], [0, 4, 0], [5, 6, 0]])[..., None]\n",
    "x, np.nonzero(x)"
   ]
  },
  {
   "cell_type": "code",
   "execution_count": 773,
   "id": "0e044c65",
   "metadata": {},
   "outputs": [
    {
     "data": {
      "text/plain": [
       "(array([3, 4, 5, 6]), array([3, 4, 5, 6]))"
      ]
     },
     "execution_count": 773,
     "metadata": {},
     "output_type": "execute_result"
    }
   ],
   "source": [
    "x = np.array([[3, 0, 0], [0, 4, 0], [5, 6, 0]])\n",
    "i, j = np.nonzero(x)\n",
    "x[i, j], x[(i, j)]"
   ]
  },
  {
   "cell_type": "code",
   "execution_count": 777,
   "id": "e484e712",
   "metadata": {},
   "outputs": [
    {
     "data": {
      "text/plain": [
       "(array([0], dtype=int64),)"
      ]
     },
     "execution_count": 777,
     "metadata": {},
     "output_type": "execute_result"
    }
   ],
   "source": [
    "np.nonzero(55)"
   ]
  },
  {
   "cell_type": "code",
   "execution_count": 778,
   "id": "ba6f02c6",
   "metadata": {},
   "outputs": [
    {
     "data": {
      "text/plain": [
       "array([], shape=(1, 0), dtype=int64)"
      ]
     },
     "execution_count": 778,
     "metadata": {},
     "output_type": "execute_result"
    }
   ],
   "source": [
    "np.argwhere(55)"
   ]
  },
  {
   "cell_type": "code",
   "execution_count": 793,
   "id": "d85cad0b",
   "metadata": {},
   "outputs": [
    {
     "data": {
      "text/plain": [
       "array([[3, 4],\n",
       "       [5, 6]])"
      ]
     },
     "execution_count": 793,
     "metadata": {},
     "output_type": "execute_result"
    }
   ],
   "source": [
    "a = np.array([[1, 2], [3, 4], [5, 6]])\n",
    "\n",
    "np.compress([False, True, True], a, axis=0)"
   ]
  },
  {
   "cell_type": "code",
   "execution_count": 794,
   "id": "2be595f1",
   "metadata": {},
   "outputs": [
    {
     "data": {
      "text/plain": [
       "array([[3, 4],\n",
       "       [5, 6]])"
      ]
     },
     "execution_count": 794,
     "metadata": {},
     "output_type": "execute_result"
    }
   ],
   "source": [
    "np.take(a, np.nonzero([False, True, True])[0], axis=0)"
   ]
  },
  {
   "cell_type": "code",
   "execution_count": 795,
   "id": "70d43f1c",
   "metadata": {},
   "outputs": [
    {
     "name": "stdout",
     "output_type": "stream",
     "text": [
      "Help on function compress in module numpy:\n",
      "\n",
      "compress(condition, a, axis=None, out=None)\n",
      "    Return selected slices of an array along given axis.\n",
      "    \n",
      "    When working along a given axis, a slice along that axis is returned in\n",
      "    `output` for each index where `condition` evaluates to True. When\n",
      "    working on a 1-D array, `compress` is equivalent to `extract`.\n",
      "    \n",
      "    Parameters\n",
      "    ----------\n",
      "    condition : 1-D array of bools\n",
      "        Array that selects which entries to return. If len(condition)\n",
      "        is less than the size of `a` along the given axis, then output is\n",
      "        truncated to the length of the condition array.\n",
      "    a : array_like\n",
      "        Array from which to extract a part.\n",
      "    axis : int, optional\n",
      "        Axis along which to take slices. If None (default), work on the\n",
      "        flattened array.\n",
      "    out : ndarray, optional\n",
      "        Output array.  Its type is preserved and it must be of the right\n",
      "        shape to hold the output.\n",
      "    \n",
      "    Returns\n",
      "    -------\n",
      "    compressed_array : ndarray\n",
      "        A copy of `a` without the slices along axis for which `condition`\n",
      "        is false.\n",
      "    \n",
      "    See Also\n",
      "    --------\n",
      "    take, choose, diag, diagonal, select\n",
      "    ndarray.compress : Equivalent method in ndarray\n",
      "    extract : Equivalent method when working on 1-D arrays\n",
      "    :ref:`ufuncs-output-type`\n",
      "    \n",
      "    Examples\n",
      "    --------\n",
      "    >>> a = np.array([[1, 2], [3, 4], [5, 6]])\n",
      "    >>> a\n",
      "    array([[1, 2],\n",
      "           [3, 4],\n",
      "           [5, 6]])\n",
      "    >>> np.compress([0, 1], a, axis=0)\n",
      "    array([[3, 4]])\n",
      "    >>> np.compress([False, True, True], a, axis=0)\n",
      "    array([[3, 4],\n",
      "           [5, 6]])\n",
      "    >>> np.compress([False, True], a, axis=1)\n",
      "    array([[2],\n",
      "           [4],\n",
      "           [6]])\n",
      "    \n",
      "    Working on the flattened array does not return slices along an axis but\n",
      "    selects elements.\n",
      "    \n",
      "    >>> np.compress([False, True], a)\n",
      "    array([2])\n",
      "\n"
     ]
    }
   ],
   "source": [
    "help(np.compress)"
   ]
  },
  {
   "cell_type": "code",
   "execution_count": 886,
   "id": "cfad5768",
   "metadata": {},
   "outputs": [
    {
     "data": {
      "text/plain": [
       "(False, None)"
      ]
     },
     "execution_count": 886,
     "metadata": {},
     "output_type": "execute_result"
    }
   ],
   "source": [
    "x = np.arange(40).reshape((5, -1)).copy()\n",
    "y = x[None, :, None, None, ::3, None]\n",
    "y.reshape(-1).base is x, np.ravel(y).base"
   ]
  },
  {
   "cell_type": "code",
   "execution_count": 884,
   "id": "27e4390e",
   "metadata": {},
   "outputs": [
    {
     "data": {
      "text/plain": [
       "((1, 5, 1, 1, 3, 1),\n",
       " (0, 32, 0, 0, 12, 0),\n",
       " array([[[[[[ 0],\n",
       "            [ 3],\n",
       "            [ 6]]]],\n",
       " \n",
       " \n",
       " \n",
       "         [[[[ 8],\n",
       "            [11],\n",
       "            [14]]]],\n",
       " \n",
       " \n",
       " \n",
       "         [[[[16],\n",
       "            [19],\n",
       "            [22]]]],\n",
       " \n",
       " \n",
       " \n",
       "         [[[[24],\n",
       "            [27],\n",
       "            [30]]]],\n",
       " \n",
       " \n",
       " \n",
       "         [[[[32],\n",
       "            [35],\n",
       "            [38]]]]]]),\n",
       " array([[ 0,  1,  2,  3,  4,  5,  6,  7],\n",
       "        [ 8,  9, 10, 11, 12, 13, 14, 15],\n",
       "        [16, 17, 18, 19, 20, 21, 22, 23],\n",
       "        [24, 25, 26, 27, 28, 29, 30, 31],\n",
       "        [32, 33, 34, 35, 36, 37, 38, 39]]))"
      ]
     },
     "execution_count": 884,
     "metadata": {},
     "output_type": "execute_result"
    }
   ],
   "source": [
    "y.shape, y.strides, y, x"
   ]
  },
  {
   "cell_type": "code",
   "execution_count": 847,
   "id": "8fbed776",
   "metadata": {},
   "outputs": [
    {
     "data": {
      "text/plain": [
       "(4,)"
      ]
     },
     "execution_count": 847,
     "metadata": {},
     "output_type": "execute_result"
    }
   ],
   "source": [
    "y.reshape(-1).strides"
   ]
  },
  {
   "cell_type": "code",
   "execution_count": null,
   "id": "7000aac6",
   "metadata": {},
   "outputs": [],
   "source": [
    "1 2 3 4 8"
   ]
  },
  {
   "cell_type": "code",
   "execution_count": 816,
   "id": "801b6f04",
   "metadata": {},
   "outputs": [
    {
     "data": {
      "text/plain": [
       "True"
      ]
     },
     "execution_count": 816,
     "metadata": {},
     "output_type": "execute_result"
    }
   ],
   "source": [
    "a = np.ones([3, 1, 5])[:,::3,:]\n",
    "np.ascontiguousarray(a) is a"
   ]
  },
  {
   "cell_type": "code",
   "execution_count": 904,
   "id": "5ba699bb",
   "metadata": {},
   "outputs": [
    {
     "name": "stdout",
     "output_type": "stream",
     "text": [
      "Help on function count_nonzero in module numpy:\n",
      "\n",
      "count_nonzero(a, axis=None, *, keepdims=False)\n",
      "    Counts the number of non-zero values in the array ``a``.\n",
      "    \n",
      "    The word \"non-zero\" is in reference to the Python 2.x\n",
      "    built-in method ``__nonzero__()`` (renamed ``__bool__()``\n",
      "    in Python 3.x) of Python objects that tests an object's\n",
      "    \"truthfulness\". For example, any number is considered\n",
      "    truthful if it is nonzero, whereas any string is considered\n",
      "    truthful if it is not the empty string. Thus, this function\n",
      "    (recursively) counts how many elements in ``a`` (and in\n",
      "    sub-arrays thereof) have their ``__nonzero__()`` or ``__bool__()``\n",
      "    method evaluated to ``True``.\n",
      "    \n",
      "    Parameters\n",
      "    ----------\n",
      "    a : array_like\n",
      "        The array for which to count non-zeros.\n",
      "    axis : int or tuple, optional\n",
      "        Axis or tuple of axes along which to count non-zeros.\n",
      "        Default is None, meaning that non-zeros will be counted\n",
      "        along a flattened version of ``a``.\n",
      "    \n",
      "        .. versionadded:: 1.12.0\n",
      "    \n",
      "    keepdims : bool, optional\n",
      "        If this is set to True, the axes that are counted are left\n",
      "        in the result as dimensions with size one. With this option,\n",
      "        the result will broadcast correctly against the input array.\n",
      "    \n",
      "        .. versionadded:: 1.19.0\n",
      "    \n",
      "    Returns\n",
      "    -------\n",
      "    count : int or array of int\n",
      "        Number of non-zero values in the array along a given axis.\n",
      "        Otherwise, the total number of non-zero values in the array\n",
      "        is returned.\n",
      "    \n",
      "    See Also\n",
      "    --------\n",
      "    nonzero : Return the coordinates of all the non-zero values.\n",
      "    \n",
      "    Examples\n",
      "    --------\n",
      "    >>> np.count_nonzero(np.eye(4))\n",
      "    4\n",
      "    >>> a = np.array([[0, 1, 7, 0],\n",
      "    ...               [3, 0, 2, 19]])\n",
      "    >>> np.count_nonzero(a)\n",
      "    5\n",
      "    >>> np.count_nonzero(a, axis=0)\n",
      "    array([1, 1, 2, 1])\n",
      "    >>> np.count_nonzero(a, axis=1)\n",
      "    array([2, 3])\n",
      "    >>> np.count_nonzero(a, axis=1, keepdims=True)\n",
      "    array([[2],\n",
      "           [3]])\n",
      "\n"
     ]
    }
   ],
   "source": [
    "help(np.count_nonzero)"
   ]
  },
  {
   "cell_type": "code",
   "execution_count": 920,
   "id": "d6716c52",
   "metadata": {},
   "outputs": [
    {
     "data": {
      "text/plain": [
       "array([[10, 10, 10, 10],\n",
       "       [10, 10, 10, 10],\n",
       "       [10, 10, 10, 10]], dtype=int64)"
      ]
     },
     "execution_count": 920,
     "metadata": {},
     "output_type": "execute_result"
    }
   ],
   "source": [
    "a = np.ones((2, 3, 4, 5))\n",
    "np.count_nonzero(a, (0, -1))"
   ]
  },
  {
   "cell_type": "code",
   "execution_count": 910,
   "id": "84083f1d",
   "metadata": {},
   "outputs": [
    {
     "data": {
      "text/plain": [
       "array([[[2, 2, 2, 2, 2],\n",
       "        [2, 2, 2, 2, 2],\n",
       "        [2, 2, 2, 2, 2],\n",
       "        [2, 2, 2, 2, 2]],\n",
       "\n",
       "       [[2, 2, 2, 2, 2],\n",
       "        [2, 2, 2, 2, 2],\n",
       "        [2, 2, 2, 2, 2],\n",
       "        [2, 2, 2, 2, 2]],\n",
       "\n",
       "       [[2, 2, 2, 2, 2],\n",
       "        [2, 2, 2, 2, 2],\n",
       "        [2, 2, 2, 2, 2],\n",
       "        [2, 2, 2, 2, 2]]], dtype=int64)"
      ]
     },
     "execution_count": 910,
     "metadata": {},
     "output_type": "execute_result"
    }
   ],
   "source": [
    "a = np.ones((2, 3, 4, 5))\n",
    "np.count_nonzero(a, 0)"
   ]
  },
  {
   "cell_type": "code",
   "execution_count": 911,
   "id": "3102b717",
   "metadata": {},
   "outputs": [
    {
     "data": {
      "text/plain": [
       "array([[[3, 3, 3, 3, 3],\n",
       "        [3, 3, 3, 3, 3],\n",
       "        [3, 3, 3, 3, 3],\n",
       "        [3, 3, 3, 3, 3]],\n",
       "\n",
       "       [[3, 3, 3, 3, 3],\n",
       "        [3, 3, 3, 3, 3],\n",
       "        [3, 3, 3, 3, 3],\n",
       "        [3, 3, 3, 3, 3]]], dtype=int64)"
      ]
     },
     "execution_count": 911,
     "metadata": {},
     "output_type": "execute_result"
    }
   ],
   "source": [
    "a = np.ones((2, 3, 4, 5))\n",
    "np.count_nonzero(a, 1)"
   ]
  },
  {
   "cell_type": "code",
   "execution_count": 912,
   "id": "78757f6b",
   "metadata": {},
   "outputs": [
    {
     "data": {
      "text/plain": [
       "120"
      ]
     },
     "execution_count": 912,
     "metadata": {},
     "output_type": "execute_result"
    }
   ],
   "source": [
    "a = np.ones((2, 3, 4, 5))\n",
    "np.count_nonzero(a)"
   ]
  },
  {
   "cell_type": "code",
   "execution_count": 913,
   "id": "4ed10150",
   "metadata": {},
   "outputs": [
    {
     "data": {
      "text/plain": [
       "array([[[5, 5, 5, 5],\n",
       "        [5, 5, 5, 5],\n",
       "        [5, 5, 5, 5]],\n",
       "\n",
       "       [[5, 5, 5, 5],\n",
       "        [5, 5, 5, 5],\n",
       "        [5, 5, 5, 5]]], dtype=int64)"
      ]
     },
     "execution_count": 913,
     "metadata": {},
     "output_type": "execute_result"
    }
   ],
   "source": [
    "a = np.ones((2, 3, 4, 5))\n",
    "np.count_nonzero(a, -1)"
   ]
  },
  {
   "cell_type": "code",
   "execution_count": 922,
   "id": "072da30d",
   "metadata": {},
   "outputs": [
    {
     "data": {
      "text/plain": [
       "((10, 1), (2, 10))"
      ]
     },
     "execution_count": 922,
     "metadata": {},
     "output_type": "execute_result"
    }
   ],
   "source": [
    "x = np.ones((2, 10), dtype=bool)\n",
    "x.strides, x.shape"
   ]
  }
 ],
 "metadata": {
  "kernelspec": {
   "display_name": "Python 3 (ipykernel)",
   "language": "python",
   "name": "python3"
  },
  "language_info": {
   "codemirror_mode": {
    "name": "ipython",
    "version": 3
   },
   "file_extension": ".py",
   "mimetype": "text/x-python",
   "name": "python",
   "nbconvert_exporter": "python",
   "pygments_lexer": "ipython3",
   "version": "3.9.12"
  }
 },
 "nbformat": 4,
 "nbformat_minor": 5
}
