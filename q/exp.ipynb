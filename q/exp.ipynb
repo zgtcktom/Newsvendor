{
 "cells": [
  {
   "cell_type": "code",
   "execution_count": 1,
   "id": "e9023710",
   "metadata": {},
   "outputs": [],
   "source": [
    "import numpy as np"
   ]
  },
  {
   "cell_type": "code",
   "execution_count": 2,
   "id": "9bb568de",
   "metadata": {},
   "outputs": [
    {
     "data": {
      "text/plain": [
       "array([[42, 43]])"
      ]
     },
     "execution_count": 2,
     "metadata": {},
     "output_type": "execute_result"
    }
   ],
   "source": [
    "np.arange(0, 60).reshape((3,2,5, 2))[2, ::2,1]"
   ]
  },
  {
   "cell_type": "code",
   "execution_count": 12,
   "id": "ddf181e9",
   "metadata": {},
   "outputs": [
    {
     "data": {
      "text/plain": [
       "(array([[4, 3, 2, 1, 0],\n",
       "        [9, 8, 7, 6, 5]]),\n",
       " 5,\n",
       " 5,\n",
       " (2, 5),\n",
       " (20, -4))"
      ]
     },
     "execution_count": 12,
     "metadata": {},
     "output_type": "execute_result"
    }
   ],
   "source": [
    "a = np.arange(10).reshape((2,-1))[:, ::-1]\n",
    "a, a.item(9), a.item((1, -1)), a.shape, a.strides"
   ]
  },
  {
   "cell_type": "code",
   "execution_count": 4,
   "id": "eae60216",
   "metadata": {},
   "outputs": [
    {
     "data": {
      "text/plain": [
       "0"
      ]
     },
     "execution_count": 4,
     "metadata": {},
     "output_type": "execute_result"
    }
   ],
   "source": [
    "np.array([[0]]).item()"
   ]
  },
  {
   "cell_type": "code",
   "execution_count": 5,
   "id": "4c6c7e2b",
   "metadata": {},
   "outputs": [
    {
     "data": {
      "text/plain": [
       "bool"
      ]
     },
     "execution_count": 5,
     "metadata": {},
     "output_type": "execute_result"
    }
   ],
   "source": [
    "type(True)"
   ]
  },
  {
   "cell_type": "code",
   "execution_count": 11,
   "id": "threatened-telling",
   "metadata": {
    "scrolled": false
   },
   "outputs": [],
   "source": [
    "for i in np.ndindex((0,)):\n",
    "    print(i)"
   ]
  },
  {
   "cell_type": "code",
   "execution_count": 14,
   "id": "appropriate-location",
   "metadata": {},
   "outputs": [
    {
     "name": "stdout",
     "output_type": "stream",
     "text": [
      "0 0 0\n",
      "1 1 1\n",
      "2 2 2\n",
      "0 3 3\n",
      "1 4 4\n",
      "2 5 5\n"
     ]
    }
   ],
   "source": [
    "a = np.arange(3)\n",
    "b = np.arange(6).reshape(2,3)\n",
    "\n",
    "for x, y, z in np.nditer([a,b,None]):\n",
    "    print(x, y, z)"
   ]
  },
  {
   "cell_type": "code",
   "execution_count": 19,
   "id": "heated-anniversary",
   "metadata": {},
   "outputs": [
    {
     "data": {
      "text/plain": [
       "[(1, 4), (1, 5), (1, 6), (2, 4), (2, 5), (2, 6), (3, 4), (3, 5), (3, 6)]"
      ]
     },
     "execution_count": 19,
     "metadata": {},
     "output_type": "execute_result"
    }
   ],
   "source": [
    "x = np.array([[1], [2], [3]])\n",
    "y = np.array([4, 5, 6])\n",
    "b = np.broadcast(x, y)\n",
    "\n",
    "list(b)"
   ]
  },
  {
   "cell_type": "code",
   "execution_count": 75,
   "id": "gross-powell",
   "metadata": {},
   "outputs": [
    {
     "data": {
      "text/plain": [
       "((1, 3, 1), (12, 4, 4), (0, 4, 0))"
      ]
     },
     "execution_count": 75,
     "metadata": {},
     "output_type": "execute_result"
    }
   ],
   "source": [
    "x = np.array([1, 2, 3]).reshape((1,-1,1))\n",
    "x.shape, x.strides, np.broadcast_to(x, (2,3,4)).strides"
   ]
  },
  {
   "cell_type": "code",
   "execution_count": 73,
   "id": "peripheral-contractor",
   "metadata": {},
   "outputs": [
    {
     "data": {
      "text/plain": [
       "array([[[1],\n",
       "        [2],\n",
       "        [3]]])"
      ]
     },
     "execution_count": 73,
     "metadata": {},
     "output_type": "execute_result"
    }
   ],
   "source": [
    "x"
   ]
  },
  {
   "cell_type": "code",
   "execution_count": 78,
   "id": "rotary-imaging",
   "metadata": {},
   "outputs": [
    {
     "data": {
      "text/plain": [
       "array([[[1, 1, 1, 1],\n",
       "        [2, 2, 2, 2],\n",
       "        [3, 3, 3, 3]],\n",
       "\n",
       "       [[1, 1, 1, 1],\n",
       "        [2, 2, 2, 2],\n",
       "        [3, 3, 3, 3]]])"
      ]
     },
     "execution_count": 78,
     "metadata": {},
     "output_type": "execute_result"
    }
   ],
   "source": [
    "np.broadcast_to(x, (2,3,4))"
   ]
  },
  {
   "cell_type": "code",
   "execution_count": 100,
   "id": "lesbian-leonard",
   "metadata": {},
   "outputs": [
    {
     "data": {
      "text/plain": [
       "(4,)"
      ]
     },
     "execution_count": 100,
     "metadata": {},
     "output_type": "execute_result"
    }
   ],
   "source": [
    "np.shape([1,2,3,[1,3]])"
   ]
  },
  {
   "cell_type": "code",
   "execution_count": 128,
   "id": "nuclear-yahoo",
   "metadata": {},
   "outputs": [],
   "source": [
    "a = [[1],[2],[3]]\n",
    "b = np.asarray(a)\n",
    "c = np.asarray(b)\n",
    "c[0, 0]=5"
   ]
  },
  {
   "cell_type": "code",
   "execution_count": 129,
   "id": "heated-burns",
   "metadata": {},
   "outputs": [
    {
     "data": {
      "text/plain": [
       "([[1], [2], [3]],\n",
       " array([[5],\n",
       "        [2],\n",
       "        [3]]),\n",
       " array([[5],\n",
       "        [2],\n",
       "        [3]]))"
      ]
     },
     "execution_count": 129,
     "metadata": {},
     "output_type": "execute_result"
    }
   ],
   "source": [
    "a, b, c"
   ]
  },
  {
   "cell_type": "code",
   "execution_count": null,
   "id": "sudden-produce",
   "metadata": {},
   "outputs": [],
   "source": []
  }
 ],
 "metadata": {
  "kernelspec": {
   "display_name": "Python 3",
   "language": "python",
   "name": "python3"
  },
  "language_info": {
   "codemirror_mode": {
    "name": "ipython",
    "version": 3
   },
   "file_extension": ".py",
   "mimetype": "text/x-python",
   "name": "python",
   "nbconvert_exporter": "python",
   "pygments_lexer": "ipython3",
   "version": "3.8.5"
  }
 },
 "nbformat": 4,
 "nbformat_minor": 5
}
